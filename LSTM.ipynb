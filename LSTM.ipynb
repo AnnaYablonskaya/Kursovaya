{
 "cells": [
  {
   "cell_type": "code",
   "execution_count": 1,
   "id": "married-patent",
   "metadata": {},
   "outputs": [],
   "source": [
    "import os\n",
    "import re\n",
    "import random\n",
    "import numpy as np\n",
    "from itertools import repeat"
   ]
  },
  {
   "cell_type": "code",
   "execution_count": 2,
   "id": "parallel-burlington",
   "metadata": {},
   "outputs": [],
   "source": [
    "directory = \"C://Users//HP//Desktop//Kursovaya//Kursovaya//04.05.21 Разбиение на файлы//ABC_New\"\n",
    "\n",
    "files = os.listdir(directory)"
   ]
  },
  {
   "cell_type": "code",
   "execution_count": 3,
   "id": "nasty-blond",
   "metadata": {},
   "outputs": [],
   "source": [
    "def make_musik(name): \n",
    "    \n",
    "    path_abc = \"C://Users//HP//Desktop//Kursovaya//Kursovaya//04.05.21 Разбиение на файлы//ABC_New//\"+\"{}\".format(name)\n",
    "    with open(path_abc,'r') as f:\n",
    "        file = f.read()\n",
    "    \n",
    "    listt = file.split(\"\\n\")\n",
    "    \n",
    "    ind = []\n",
    "    for el in listt:\n",
    "        if el.startswith('K:'):\n",
    "            ind.append(listt.index(el))\n",
    "    mus_list=[]\n",
    "    if len(ind)==1:\n",
    "        for el in listt[ind[0]+1:]:\n",
    "            el = re.sub('P:(?:.*?).*','',el)\n",
    "            if not el == '':\n",
    "                mus_list.append(el)\n",
    "    else:\n",
    "        for i in range(len(ind)-1):\n",
    "            for el in listt[ind[i]+1:ind[i+1]]:\n",
    "                el = re.sub('P:(?:.*?).*','',el)\n",
    "                if not el == '':\n",
    "                    mus_list.append(el)\n",
    "        for el in listt[ind[-1]+1:]:\n",
    "            el = re.sub('P:(?:.*?).*','',el)\n",
    "            if not el == '':\n",
    "                mus_list.append(el)\n",
    "        \n",
    "    #mus_list = [item for sublist in mus_list for item in sublist]\n",
    "    \n",
    "    return ''.join(mus_list)"
   ]
  },
  {
   "cell_type": "code",
   "execution_count": 4,
   "id": "faced-batch",
   "metadata": {},
   "outputs": [],
   "source": [
    "list_klass = [3*['sad'],['happy'],12*['sad'],['happy'],18*['sad'],['happy'],10*['sad'],['happy'],21*['sad'],['happy']\n",
    "              ,2*['sad'],['happy','sad','happy'],13*['sad'],['sad','sad','happy'],2*['sad'],['happy'],4*['sad'],['happy','sad','sad'],\n",
    "             3*['happy'],4*['sad'],['happy','sad','happy','sad','happy','happy','sad','happy'],4*['sad'],4*['happy'],4*['sad'],\n",
    "             2*['happy'],4*['sad'],['happy','sad'],4*['happy'],['sad','happy','sad','happy','happy','sad','happy','sad'],5*['happy'],\n",
    "             ['sad','happy','sad','happy','happy','sad'],7*['happy'],['sad','happy','happy','sad','happy','sad','happy','sad','sad',\n",
    "                                                                     'happy','happy','sad','happy','sad','sad'],\n",
    "             13*['happy'],['sad'],2*['happy'],2*['sad'],2*['happy'],2*['sad'],['happy','sad'],2*['happy'],2*['sad'],3*['happy'],['sad'],\n",
    "             5*['happy'],['sad'],2*['happy'],2*['sad'],2*['happy'],['sad'],7*['happy'],['sad'],2*['happy'],2*['sad'],['happy'],4*['sad'],\n",
    "             ['happy','sad','happy','sad','happy'],6*['sad'],4*['happy'],['sad','happy','sad','sad','happy'],3*['sad'],3*['happy'],\n",
    "             ['sad','happy'],2*['sad'],2*['happy'],['sad','happy','happy','sad'],4*['happy'],['sad','happy'],2*['sad'],['happy','sad'],\n",
    "             2*['happy'],5*['sad'],['happy'],3*['sad'],9*['happy'],['sad'],5*['happy'],['sad'],3*['happy'],['sad','happy','happy','sad',\n",
    "                                                                                                           'happy','sad','sad'],\n",
    "             3*['happy'],['sad'],4*['happy'],['sad'],3*['happy'],2*['sad'],4*['happy'],['sad','happy','happy','sad'],4*['happy'],\n",
    "             4*['happy','sad'],['sad'],4*['happy'],2*['sad','happy'],2*['happy'],['sad'],3*['happy'],['sad'],4*['happy'],['sad'],\n",
    "              2*['happy'],2*['sad'],3*['happy','sad'],8*['happy'],2*['sad'],['happy','sad','sad','happy','sad','sad','happy','sad','happy',\n",
    "                                                                            'happy','sad'],\n",
    "             6*['happy'],['sad'],4*['happy'],2*['sad','happy'],['happy'],7*['sad'],['happy','sad'],6*['happy'],2*['sad','happy'],4*['happy'],\n",
    "             2*['sad'],3*['happy'],2*['sad'],7*['happy'],2*['sad','happy'],2*['happy'],3*['sad','happy'],2*['sad'],['happy','sad'],3*['happy'],\n",
    "             2*['sad','happy'],2*['happy'],3*['sad','happy'],4*['happy'],['sad'],3*['happy'],['sad'],2*['happy'],8*['sad'],['happy','sad'],\n",
    "             6*['happy'],2*['sad','happy'],7*['happy'],3*['sad'],5*['happy'],4*['sad'],['happy'],2*['sad'],2*['happy'],2*['sad','happy'],\n",
    "             5*['happy'],2*['sad','happy'],3*['sad'],3*['happy'],2*['sad','happy'],2*['happy'],2*['sad'],2*['happy'],['sad'],8*['happy'],\n",
    "             2*['sad'],3*['happy'],2*['sad'],7*['happy'],['sad'],2*['happy'],['sad'],13*['happy'],['sad'],5*['happy'],\n",
    "             ['sad'],6*['happy'],2*['sad','happy'],2*['sad'],2*['happy'],['sad'],3*['happy'],2*['sad'],2*['happy'],3*['sad'],['happy'],\n",
    "             3*['sad'],['happy'],2*['sad'],2*['happy','sad'],3*['happy'],['sad'],2*['happy'],['sad'],2*['happy'],2*['sad'],['happy'],\n",
    "             5*['sad'],3*['happy'],['sad'],6*['happy'],['sad'],12*['happy'],['sad'],3*['happy'],['sad'],2*['happy'],2*['sad'],\n",
    "             4*['happy'],['sad'],2*['happy'],['sad'],3*['happy'],2*['sad','happy'],4*['sad'],4*['happy'],2*['sad'],4*['happy'],\n",
    "             2*['sad','happy'],3*['sad'],['happy'],3*['sad'],4*['happy'],5*['sad'],4*['happy'],['sad'],2*['happy'],3*['sad'],\n",
    "             6*['happy'],5*['sad'],2*['happy','sad'],6*['happy'],2*['sad'],4*['happy'],['sad','happy'],2*['sad'],['happy','sad','sad'],3*['happy'],\n",
    "             ['sad'],4*['happy'],2*['sad','happy'],['happy'],2*['sad'],['happy','sad'],2*['happy'],3*['sad'],2*['happy'],2*['sad'],\n",
    "             5*['happy'],['sad','happy'],3*['sad'],5*['happy'],3*['sad'],4*['happy'],['sad'],5*['happy'],2*['sad'],3*['happy'],['sad'],\n",
    "              2*['happy'],2*['sad','happy'],9*['happy'],3*['sad'],['happy','sad'],2*['happy'],2*['sad'],['happy'],5*['sad'],['happy','sad'],\n",
    "             3*['happy'],2*['sad','happy'],['happy'],3*['sad'],3*['happy'],2*['sad'],8*['happy'],['sad','happy','sad']]"
   ]
  },
  {
   "cell_type": "code",
   "execution_count": 5,
   "id": "acting-dividend",
   "metadata": {},
   "outputs": [],
   "source": [
    "list_klass = [item for sublist in list_klass for item in sublist]"
   ]
  },
  {
   "cell_type": "code",
   "execution_count": 6,
   "id": "separate-warrant",
   "metadata": {},
   "outputs": [],
   "source": [
    "klass_l=[]\n",
    "for x in list_klass:\n",
    "    if x == 'sad':\n",
    "        klass_l.append(1)\n",
    "    else:\n",
    "        klass_l.append(0)"
   ]
  },
  {
   "cell_type": "code",
   "execution_count": 7,
   "id": "early-playback",
   "metadata": {},
   "outputs": [],
   "source": [
    "l1=[]\n",
    "for i in range(len(files)):\n",
    "    l1.append(make_musik(files[i]))\n",
    "zipp = zip(l1,klass_l)\n",
    "sett = dict(zipp)"
   ]
  },
  {
   "cell_type": "code",
   "execution_count": 8,
   "id": "retained-canberra",
   "metadata": {},
   "outputs": [],
   "source": [
    "c=list([t for f in sett.keys() for t in f.split('|')])\n",
    "\n",
    "for el in c:\n",
    "    if el == '' or el == ']' or el == ' ':\n",
    "        c.remove(el)\n",
    "\n",
    "        \n",
    "dictt = {}\n",
    "for k in c:\n",
    "    if dictt.get(k): dictt[k] += 1\n",
    "    else: dictt[k] = 1\n",
    "\n",
    "from collections import OrderedDict\n",
    "sorted_dict = OrderedDict(sorted(dictt.items(), key=lambda x: -x[1]))\n",
    "\n",
    "vocab = list(dict(sorted_dict).keys())"
   ]
  },
  {
   "cell_type": "code",
   "execution_count": 9,
   "id": "german-memory",
   "metadata": {},
   "outputs": [],
   "source": [
    "vocab_size = len(vocab)"
   ]
  },
  {
   "cell_type": "code",
   "execution_count": 10,
   "id": "informational-bangladesh",
   "metadata": {},
   "outputs": [],
   "source": [
    "takt_to_ind = {t: i for i,t in enumerate(vocab)}\n",
    "idx_to_word = { i: t for i, t in enumerate(vocab) }"
   ]
  },
  {
   "cell_type": "code",
   "execution_count": 11,
   "id": "statewide-mounting",
   "metadata": {},
   "outputs": [],
   "source": [
    "import tensorflow as tf\n",
    "from tensorflow.keras.preprocessing.text import Tokenizer"
   ]
  },
  {
   "cell_type": "code",
   "execution_count": 12,
   "id": "moved-trustee",
   "metadata": {},
   "outputs": [],
   "source": [
    "a=[]\n",
    "for el in l1:\n",
    "    l = el.split('|')\n",
    "    for e in l:\n",
    "        if e ==' ' or e ==']' or e =='':\n",
    "            l.remove(e)\n",
    "    l='|'.join(l)\n",
    "    a.append(l)\n",
    "    l=[]"
   ]
  },
  {
   "cell_type": "code",
   "execution_count": 13,
   "id": "square-sucking",
   "metadata": {},
   "outputs": [
    {
     "data": {
      "text/plain": [
       "923"
      ]
     },
     "execution_count": 13,
     "metadata": {},
     "output_type": "execute_result"
    }
   ],
   "source": [
    "len(a)"
   ]
  },
  {
   "cell_type": "code",
   "execution_count": 14,
   "id": "inclusive-difference",
   "metadata": {},
   "outputs": [],
   "source": [
    "tokenizer = Tokenizer(split='|')\n",
    "tokenizer.fit_on_texts(a)\n",
    "textSequences = tokenizer.texts_to_sequences(a)"
   ]
  },
  {
   "cell_type": "code",
   "execution_count": 15,
   "id": "under-company",
   "metadata": {},
   "outputs": [],
   "source": [
    "def load_data_from_arrays(strings, labels, train_test_split=0.9):\n",
    "    data_size = len(strings)\n",
    "    test_size = int(data_size - round(data_size * train_test_split))\n",
    "\n",
    "    x_train = strings[test_size:]\n",
    "    y_train = labels[test_size:]\n",
    "    \n",
    "    x_test = strings[:test_size]\n",
    "    y_test = labels[:test_size]\n",
    "\n",
    "    return x_train, y_train, x_test, y_test\n"
   ]
  },
  {
   "cell_type": "code",
   "execution_count": 16,
   "id": "abroad-championship",
   "metadata": {
    "scrolled": true
   },
   "outputs": [],
   "source": [
    "x_train, y_train, x_test, y_test = load_data_from_arrays(textSequences,klass_l,train_test_split=0.5)"
   ]
  },
  {
   "cell_type": "code",
   "execution_count": 17,
   "id": "executive-liechtenstein",
   "metadata": {},
   "outputs": [],
   "source": [
    "tokenizer = Tokenizer(num_words=vocab_size)\n",
    "x_train = tokenizer.sequences_to_matrix(x_train, mode='binary')\n",
    "x_test = tokenizer.sequences_to_matrix(x_test, mode='binary')"
   ]
  },
  {
   "cell_type": "code",
   "execution_count": 18,
   "id": "cardiovascular-motel",
   "metadata": {},
   "outputs": [
    {
     "data": {
      "text/plain": [
       "462"
      ]
     },
     "execution_count": 18,
     "metadata": {},
     "output_type": "execute_result"
    }
   ],
   "source": [
    "len(y_train)"
   ]
  },
  {
   "cell_type": "code",
   "execution_count": 19,
   "id": "cordless-stress",
   "metadata": {},
   "outputs": [],
   "source": [
    "y_train = tf.keras.utils.to_categorical(y_train,num_classes=2)\n",
    "y_test = tf.keras.utils.to_categorical(y_test,num_classes=2)"
   ]
  },
  {
   "cell_type": "code",
   "execution_count": 20,
   "id": "second-wings",
   "metadata": {},
   "outputs": [],
   "source": [
    "from tensorflow.keras.models import Sequential\n",
    "from tensorflow.keras.layers import Dense\n",
    "from tensorflow.keras.layers import Activation\n",
    "from tensorflow.keras.layers import Dropout\n",
    "from tensorflow.keras.layers import Embedding\n",
    "from tensorflow.keras.layers import LSTM\n",
    "from tensorflow.keras.callbacks import TensorBoard\n",
    "from tensorflow.keras import optimizers\n",
    "from tensorflow.keras.optimizers import Adam"
   ]
  },
  {
   "cell_type": "code",
   "execution_count": 24,
   "id": "hollow-church",
   "metadata": {},
   "outputs": [],
   "source": [
    "import matplotlib.pyplot as plt\n",
    "import matplotlib as mpl\n",
    "import matplotlib.dates as mdates\n",
    "import datetime as dt\n",
    "import csv"
   ]
  },
  {
   "cell_type": "code",
   "execution_count": 22,
   "id": "universal-honduras",
   "metadata": {},
   "outputs": [],
   "source": [
    "import tensorflow"
   ]
  },
  {
   "cell_type": "code",
   "execution_count": 26,
   "id": "adjusted-percentage",
   "metadata": {},
   "outputs": [
    {
     "name": "stdout",
     "output_type": "stream",
     "text": [
      "Model: \"sequential_1\"\n",
      "_________________________________________________________________\n",
      "Layer (type)                 Output Shape              Param #   \n",
      "=================================================================\n",
      "embedding_1 (Embedding)      (None, None, 800)         10173600  \n",
      "_________________________________________________________________\n",
      "lstm_1 (LSTM)                (None, 100)               360400    \n",
      "_________________________________________________________________\n",
      "dense_1 (Dense)              (None, 2)                 202       \n",
      "=================================================================\n",
      "Total params: 10,534,202\n",
      "Trainable params: 10,534,202\n",
      "Non-trainable params: 0\n",
      "_________________________________________________________________\n",
      "None\n"
     ]
    }
   ],
   "source": [
    "model = Sequential()\n",
    "model.add(Embedding(vocab_size, 800))\n",
    "model.add(LSTM(100))\n",
    "model.add(Dense(2, activation='softmax'))\n",
    "model.compile(optimizer=Adam(learning_rate=0.001), loss='categorical_crossentropy',metrics=['accuracy'])\n",
    "print(model.summary())"
   ]
  },
  {
   "cell_type": "code",
   "execution_count": 27,
   "id": "removable-noise",
   "metadata": {},
   "outputs": [
    {
     "name": "stdout",
     "output_type": "stream",
     "text": [
      "Epoch 1/5\n",
      "15/15 [==============================] - 6006s 402s/step - loss: 0.6662 - accuracy: 0.6126 - val_loss: 0.7127 - val_accuracy: 0.5054\n",
      "Epoch 2/5\n",
      "15/15 [==============================] - 6537s 435s/step - loss: 0.6644 - accuracy: 0.6255 - val_loss: 0.7169 - val_accuracy: 0.5054\n",
      "Epoch 3/5\n",
      "15/15 [==============================] - 5894s 397s/step - loss: 0.6637 - accuracy: 0.6255 - val_loss: 0.7151 - val_accuracy: 0.5054\n",
      "Epoch 4/5\n",
      "15/15 [==============================] - 9227s 638s/step - loss: 0.6634 - accuracy: 0.6255 - val_loss: 0.7338 - val_accuracy: 0.5054\n",
      "Epoch 5/5\n",
      "15/15 [==============================] - 10986s 752s/step - loss: 0.6668 - accuracy: 0.6255 - val_loss: 0.7102 - val_accuracy: 0.5054\n"
     ]
    }
   ],
   "source": [
    "history = model.fit(x_train,y_train,batch_size=32,epochs=5, validation_data=(x_test,y_test))"
   ]
  },
  {
   "cell_type": "code",
   "execution_count": null,
   "id": "technological-beaver",
   "metadata": {},
   "outputs": [],
   "source": []
  }
 ],
 "metadata": {
  "kernelspec": {
   "display_name": "Python 3",
   "language": "python",
   "name": "python3"
  },
  "language_info": {
   "codemirror_mode": {
    "name": "ipython",
    "version": 3
   },
   "file_extension": ".py",
   "mimetype": "text/x-python",
   "name": "python",
   "nbconvert_exporter": "python",
   "pygments_lexer": "ipython3",
   "version": "3.8.8"
  }
 },
 "nbformat": 4,
 "nbformat_minor": 5
}
