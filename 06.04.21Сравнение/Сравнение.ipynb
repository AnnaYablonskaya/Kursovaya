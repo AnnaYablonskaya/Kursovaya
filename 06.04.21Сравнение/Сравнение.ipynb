{
 "cells": [
  {
   "cell_type": "code",
   "execution_count": null,
   "id": "weighted-retention",
   "metadata": {},
   "outputs": [],
   "source": [
    "file = 'C:\\\\Users\\\\HP\\\\Desktop\\\\Kursovaya\\\\ABC.abc';\n",
    "with open(file,'r') as f:\n",
    "    text = f.read()"
   ]
  },
  {
   "cell_type": "code",
   "execution_count": 2,
   "id": "compressed-stewart",
   "metadata": {},
   "outputs": [
    {
     "data": {
      "text/plain": [
       "133"
      ]
     },
     "execution_count": 2,
     "metadata": {},
     "output_type": "execute_result"
    }
   ],
   "source": [
    "text.index('[')"
   ]
  },
  {
   "cell_type": "code",
   "execution_count": 3,
   "id": "republican-failing",
   "metadata": {},
   "outputs": [],
   "source": [
    "t1 = text[0:132]"
   ]
  },
  {
   "cell_type": "code",
   "execution_count": 4,
   "id": "political-heart",
   "metadata": {},
   "outputs": [
    {
     "data": {
      "text/plain": [
       "['X: 1',\n",
       " 'T: Ave Maria',\n",
       " 'C: Jacob Arcadelt (1514? - 1557)',\n",
       " 'L: 1/4',\n",
       " 'M: C',\n",
       " 'Q: \"Andante moderato\" 1/4=110',\n",
       " 'Z: Guido Gonzato, November 2017',\n",
       " 'K: FMaj']"
      ]
     },
     "execution_count": 4,
     "metadata": {},
     "output_type": "execute_result"
    }
   ],
   "source": [
    "t2 = t1.split('\\n')\n",
    "t2"
   ]
  },
  {
   "cell_type": "code",
   "execution_count": 5,
   "id": "light-laptop",
   "metadata": {},
   "outputs": [
    {
     "data": {
      "text/plain": [
       "[['X', '1'],\n",
       " ['T', 'Ave Maria'],\n",
       " ['C', 'Jacob Arcadelt (1514? - 1557)'],\n",
       " ['L', '1/4'],\n",
       " ['M', 'C'],\n",
       " ['Q', '\"Andante moderato\" 1/4=110'],\n",
       " ['Z', 'Guido Gonzato, November 2017'],\n",
       " ['K', 'FMaj']]"
      ]
     },
     "execution_count": 5,
     "metadata": {},
     "output_type": "execute_result"
    }
   ],
   "source": [
    "d=[]\n",
    "for i in range(len(t2)):\n",
    "    d.append(t2[i].split(': '))\n",
    "d"
   ]
  },
  {
   "cell_type": "code",
   "execution_count": 6,
   "id": "fallen-glance",
   "metadata": {},
   "outputs": [
    {
     "data": {
      "text/plain": [
       "{'X': '1',\n",
       " 'T': 'Ave Maria',\n",
       " 'C': 'Jacob Arcadelt (1514? - 1557)',\n",
       " 'L': '1/4',\n",
       " 'M': 'C',\n",
       " 'Q': '\"Andante moderato\" 1/4=110',\n",
       " 'Z': 'Guido Gonzato, November 2017',\n",
       " 'K': 'FMaj'}"
      ]
     },
     "execution_count": 6,
     "metadata": {},
     "output_type": "execute_result"
    }
   ],
   "source": [
    "a = {d[i][0]:d[i][1] for i in range(len(d))}\n",
    "a"
   ]
  },
  {
   "cell_type": "code",
   "execution_count": 7,
   "id": "operational-bumper",
   "metadata": {},
   "outputs": [],
   "source": [
    "def make_dict(text,symbol):\n",
    "    ind = text.index(symbol)\n",
    "    \n",
    "    text1 = text[0:ind-1]\n",
    "    \n",
    "    text2 = text1.split('\\n')\n",
    "    \n",
    "    new_list=[]\n",
    "    for i in range(len(text2)):\n",
    "        new_list.append(text2[i].split(': '))\n",
    "    new_dict =  {new_list[i][0]:new_list[i][1] for i in range(len(new_list))}\n",
    "    \n",
    "    return new_dict\n"
   ]
  },
  {
   "cell_type": "code",
   "execution_count": 8,
   "id": "smoking-interstate",
   "metadata": {},
   "outputs": [],
   "source": [
    "file = 'C:\\\\Users\\\\HP\\\\Desktop\\\\Kursovaya\\\\ABC1.abc';\n",
    "with open(file,'r') as f:\n",
    "    file1 = f.read()"
   ]
  },
  {
   "cell_type": "code",
   "execution_count": 9,
   "id": "through-procedure",
   "metadata": {},
   "outputs": [],
   "source": [
    "dict_text = make_dict(text,'[')\n",
    "dict_file1=make_dict(file1,'[')"
   ]
  },
  {
   "cell_type": "code",
   "execution_count": 11,
   "id": "victorian-fleet",
   "metadata": {},
   "outputs": [],
   "source": [
    "def match(dict1,dict2):\n",
    "    len1 = len(dict1)\n",
    "    \n",
    "    len2 = len(dict2)\n",
    "    \n",
    "    val1 = list(dict1.values())\n",
    "    \n",
    "    val2 = list(dict2.values())\n",
    "    \n",
    "    res = []\n",
    "    for i in range(max(len1,len2)):\n",
    "        if (val1[i] == val2[i]):\n",
    "            res.append(1)\n",
    "        else:\n",
    "            res.append(0)\n",
    "        \n",
    "    return res\n",
    "    "
   ]
  },
  {
   "cell_type": "code",
   "execution_count": 12,
   "id": "linear-coupon",
   "metadata": {},
   "outputs": [
    {
     "data": {
      "text/plain": [
       "[1, 1, 0, 0, 0, 0, 1, 0]"
      ]
     },
     "execution_count": 12,
     "metadata": {},
     "output_type": "execute_result"
    }
   ],
   "source": [
    "match(dict_file1,dict_text)"
   ]
  },
  {
   "cell_type": "code",
   "execution_count": null,
   "id": "banned-tenant",
   "metadata": {},
   "outputs": [],
   "source": []
  }
 ],
 "metadata": {
  "kernelspec": {
   "display_name": "Python 3",
   "language": "python",
   "name": "python3"
  },
  "language_info": {
   "codemirror_mode": {
    "name": "ipython",
    "version": 3
   },
   "file_extension": ".py",
   "mimetype": "text/x-python",
   "name": "python",
   "nbconvert_exporter": "python",
   "pygments_lexer": "ipython3",
   "version": "3.8.8"
  }
 },
 "nbformat": 4,
 "nbformat_minor": 5
}
