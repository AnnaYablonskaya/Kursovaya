{
 "cells": [
  {
   "cell_type": "code",
   "execution_count": 1,
   "id": "prime-quantity",
   "metadata": {},
   "outputs": [],
   "source": [
    "file = 'C:\\\\Users\\\\HP\\\\Desktop\\\\Kursovaya\\\\ABC.abc';\n",
    "with open(file,'r') as f:\n",
    "    text = f.read()"
   ]
  },
  {
   "cell_type": "code",
   "execution_count": 2,
   "id": "constitutional-legislation",
   "metadata": {},
   "outputs": [
    {
     "data": {
      "text/plain": [
       "133"
      ]
     },
     "execution_count": 2,
     "metadata": {},
     "output_type": "execute_result"
    }
   ],
   "source": [
    "text.index('[')"
   ]
  },
  {
   "cell_type": "code",
   "execution_count": 3,
   "id": "pharmaceutical-neighborhood",
   "metadata": {},
   "outputs": [],
   "source": [
    "text1 = text[133:]"
   ]
  },
  {
   "cell_type": "code",
   "execution_count": 4,
   "id": "artistic-relationship",
   "metadata": {},
   "outputs": [],
   "source": [
    "song = text1.split('\\n')"
   ]
  },
  {
   "cell_type": "code",
   "execution_count": 5,
   "id": "partial-taste",
   "metadata": {},
   "outputs": [
    {
     "data": {
      "text/plain": [
       "['[V: S] z A G A|F G A2|A c c2|',\n",
       " '[V: A] z F E C|D E F2|F F F2|',\n",
       " '[V: T] z c c A|A c c2|c A A2|',\n",
       " '[V: B] z F, C, F,|D, C, F,2|F, F, F,2|',\n",
       " '[V: S] B A G2|z A G A|F G A2|',\n",
       " '[V: A] F2 E2|z F E C|D E F2|',\n",
       " '[V: T] d c c2|z c c A|A c c2|',\n",
       " '[V: B] B,, F, C,2|z F, C, F,|D, C, F,2 |',\n",
       " '[V: S] G A B A G F|G2 F2|F c c2|',\n",
       " '[V: A] E F F D|E2 F2|F F F2|',\n",
       " '[V: T] c2 d A|c2 A2|A A A2|',\n",
       " '[V: B] C, F, B,, D,|C,2 F,,2|F, F, F,2|',\n",
       " '[V: S] d e f2|e c c d|e f f e d c|',\n",
       " '[V: A] F A A2|A E E G|G A G E|',\n",
       " '[V: T] G ^c d2|=c c c =B|c c c c|',\n",
       " '[V: B] D, A,, D,2|A, A, A, G,|C, F, C, A,|',\n",
       " '[V: S] d c F|c c d e|f2 e c|',\n",
       " '[V: A] G E F|F F F A|A2 A E|',\n",
       " '[V: T] =B B c A|A A A ^c|d2 =c c|',\n",
       " '[V: B] G, G,, C, F,|F, F, D, A,,|D,2 A, A,|',\n",
       " '[V: S] c d e f|f e d c d2|c2 z2|z f f e|',\n",
       " '[V: A] E G G A|G E G2|E2 z2|z A A A|',\n",
       " '[V: T] c =B c c|c2 c =B|c2 z2|z c c c|',\n",
       " '[V: B] A, G, C, F,|C, A, G,2|C,2 z2|zF, F, A,|',\n",
       " '[V: S] d2^ c2|=c2 d2|d2 c B A|B2 A2|',\n",
       " '[V: A] F2 E2|E2 F2|F2 F F|F2 F2|',\n",
       " '[V: T] A2 A2|G2 B2|B2 A c|d2 c2|',\n",
       " '[V: B] D,2 A,,2|C,2 B,,2|B,,2 F, F,|B,,2 F,2|',\n",
       " '[V: S] z A c d|c2 B2|A2 G A|',\n",
       " '[V: A] z F F F|F2 D2|F2 C C|',\n",
       " '[V: T] z c A B|A2 G2|A2 c F|',\n",
       " '[V: B] zF, F, B,,|F,2 G,2|D,2 E, F,|',\n",
       " '[V: S] B A G F G2|F2 F A|c d c B|',\n",
       " '[V: A] DA, C2|C2 C F|F F F D|',\n",
       " '[V: T] F F F E|F2 A F|G B A G|',\n",
       " '[V: B] B,, D, C,2|F,,2 F, D,|C, B,, F, G,|',\n",
       " '[V: S] A2 G A|B A G F G2|F2 F2|F4|',\n",
       " '[V: A] F2 C C|D A, C2|C2 D2|C4|',\n",
       " '[V: T] A2 c F|F F F E|F2 B2|A4|',\n",
       " '[V: B] D,2 E, F,|B,, D, C,2|F,,2 B,,2|F,,4|']"
      ]
     },
     "execution_count": 5,
     "metadata": {},
     "output_type": "execute_result"
    }
   ],
   "source": [
    "song"
   ]
  },
  {
   "cell_type": "code",
   "execution_count": 6,
   "id": "matched-transformation",
   "metadata": {},
   "outputs": [
    {
     "data": {
      "text/plain": [
       "['[V: S] z A G A|F G A2|A c c2|',\n",
       " '[V: S] B A G2|z A G A|F G A2|',\n",
       " '[V: S] G A B A G F|G2 F2|F c c2|',\n",
       " '[V: S] d e f2|e c c d|e f f e d c|',\n",
       " '[V: S] d c F|c c d e|f2 e c|',\n",
       " '[V: S] c d e f|f e d c d2|c2 z2|z f f e|',\n",
       " '[V: S] d2^ c2|=c2 d2|d2 c B A|B2 A2|',\n",
       " '[V: S] z A c d|c2 B2|A2 G A|',\n",
       " '[V: S] B A G F G2|F2 F A|c d c B|',\n",
       " '[V: S] A2 G A|B A G F G2|F2 F2|F4|']"
      ]
     },
     "execution_count": 6,
     "metadata": {},
     "output_type": "execute_result"
    }
   ],
   "source": [
    "song[::4]"
   ]
  },
  {
   "cell_type": "code",
   "execution_count": 7,
   "id": "duplicate-laugh",
   "metadata": {},
   "outputs": [],
   "source": [
    "s = []\n",
    "a=0\n",
    "while a<4:\n",
    "    s.append(song[a::4])\n",
    "    a+=1"
   ]
  },
  {
   "cell_type": "code",
   "execution_count": 8,
   "id": "underlying-cotton",
   "metadata": {},
   "outputs": [
    {
     "data": {
      "text/plain": [
       "'z A G A|F G A2|A c c2| B A G2|z A G A|F G A2| G A B A G F|G2 F2|F c c2| d e f2|e c c d|e f f e d c| d c F|c c d e|f2 e c| c d e f|f e d c d2|c2 z2|z f f e| d2^ c2|=c2 d2|d2 c B A|B2 A2| z A c d|c2 B2|A2 G A| B A G F G2|F2 F A|c d c B| A2 G A|B A G F G2|F2 F2|F4|'"
      ]
     },
     "execution_count": 8,
     "metadata": {},
     "output_type": "execute_result"
    }
   ],
   "source": [
    "''.join(((''.join(s[0]))[((''.join(s[0])).index(']'))+2:]).split('[V: S]'))"
   ]
  },
  {
   "cell_type": "code",
   "execution_count": 9,
   "id": "small-sponsorship",
   "metadata": {},
   "outputs": [
    {
     "data": {
      "text/plain": [
       "'[V: S] z A G A|F G A2|A c c2| B A G2|z A G A|F G A2| G A B A G F|G2 F2|F c c2| d e f2|e c c d|e f f e d c| d c F|c c d e|f2 e c| c d e f|f e d c d2|c2 z2|z f f e| d2^ c2|=c2 d2|d2 c B A|B2 A2| z A c d|c2 B2|A2 G A| B A G F G2|F2 F A|c d c B| A2 G A|B A G F G2|F2 F2|F4|'"
      ]
     },
     "execution_count": 9,
     "metadata": {},
     "output_type": "execute_result"
    }
   ],
   "source": [
    "(''.join(s[0]))[:((''.join(s[0])).index(']'))+2] +(\n",
    "    ''.join(((''.join(s[0]))[((''.join(s[0])).index(']'))+2:]).split((''.join(s[0]))[:((''.join(s[0])).index(']'))+1])))"
   ]
  },
  {
   "cell_type": "code",
   "execution_count": 10,
   "id": "political-musical",
   "metadata": {},
   "outputs": [],
   "source": [
    "s1 = []\n",
    "for i in range(len(s)):\n",
    "    s1.append((''.join(s[i]))[:((''.join(s[i])).index(']'))+2] + \n",
    "          (''.join(((''.join(s[i]))[((''.join(s[0])).index(']'))+2:]).split((''.join(s[i]))[:((''.join(s[i])).index(']'))+1]))))"
   ]
  },
  {
   "cell_type": "code",
   "execution_count": 11,
   "id": "velvet-marine",
   "metadata": {},
   "outputs": [
    {
     "data": {
      "text/plain": [
       "['[V: S] z A G A|F G A2|A c c2| B A G2|z A G A|F G A2| G A B A G F|G2 F2|F c c2| d e f2|e c c d|e f f e d c| d c F|c c d e|f2 e c| c d e f|f e d c d2|c2 z2|z f f e| d2^ c2|=c2 d2|d2 c B A|B2 A2| z A c d|c2 B2|A2 G A| B A G F G2|F2 F A|c d c B| A2 G A|B A G F G2|F2 F2|F4|',\n",
       " '[V: A] z F E C|D E F2|F F F2| F2 E2|z F E C|D E F2| E F F D|E2 F2|F F F2| F A A2|A E E G|G A G E| G E F|F F F A|A2 A E| E G G A|G E G2|E2 z2|z A A A| F2 E2|E2 F2|F2 F F|F2 F2| z F F F|F2 D2|F2 C C| DA, C2|C2 C F|F F F D| F2 C C|D A, C2|C2 D2|C4|',\n",
       " '[V: T] z c c A|A c c2|c A A2| d c c2|z c c A|A c c2| c2 d A|c2 A2|A A A2| G ^c d2|=c c c =B|c c c c| =B B c A|A A A ^c|d2 =c c| c =B c c|c2 c =B|c2 z2|z c c c| A2 A2|G2 B2|B2 A c|d2 c2| z c A B|A2 G2|A2 c F| F F F E|F2 A F|G B A G| A2 c F|F F F E|F2 B2|A4|',\n",
       " '[V: B] z F, C, F,|D, C, F,2|F, F, F,2| B,, F, C,2|z F, C, F,|D, C, F,2 | C, F, B,, D,|C,2 F,,2|F, F, F,2| D, A,, D,2|A, A, A, G,|C, F, C, A,| G, G,, C, F,|F, F, D, A,,|D,2 A, A,| A, G, C, F,|C, A, G,2|C,2 z2|zF, F, A,| D,2 A,,2|C,2 B,,2|B,,2 F, F,|B,,2 F,2| zF, F, B,,|F,2 G,2|D,2 E, F,| B,, D, C,2|F,,2 F, D,|C, B,, F, G,| D,2 E, F,|B,, D, C,2|F,,2 B,,2|F,,4|']"
      ]
     },
     "execution_count": 11,
     "metadata": {},
     "output_type": "execute_result"
    }
   ],
   "source": [
    "s1"
   ]
  },
  {
   "cell_type": "code",
   "execution_count": 12,
   "id": "extended-tribute",
   "metadata": {},
   "outputs": [
    {
     "data": {
      "text/plain": [
       "['[V: S',\n",
       " 'z A G A|F G A2|A c c2| B A G2|z A G A|F G A2| G A B A G F|G2 F2|F c c2| d e f2|e c c d|e f f e d c| d c F|c c d e|f2 e c| c d e f|f e d c d2|c2 z2|z f f e| d2^ c2|=c2 d2|d2 c B A|B2 A2| z A c d|c2 B2|A2 G A| B A G F G2|F2 F A|c d c B| A2 G A|B A G F G2|F2 F2|F4|']"
      ]
     },
     "execution_count": 12,
     "metadata": {},
     "output_type": "execute_result"
    }
   ],
   "source": [
    "s1[0].split('] ')"
   ]
  },
  {
   "cell_type": "code",
   "execution_count": 13,
   "id": "australian-leisure",
   "metadata": {},
   "outputs": [
    {
     "data": {
      "text/plain": [
       "[['[V: S',\n",
       "  'z A G A|F G A2|A c c2| B A G2|z A G A|F G A2| G A B A G F|G2 F2|F c c2| d e f2|e c c d|e f f e d c| d c F|c c d e|f2 e c| c d e f|f e d c d2|c2 z2|z f f e| d2^ c2|=c2 d2|d2 c B A|B2 A2| z A c d|c2 B2|A2 G A| B A G F G2|F2 F A|c d c B| A2 G A|B A G F G2|F2 F2|F4|'],\n",
       " ['[V: A',\n",
       "  'z F E C|D E F2|F F F2| F2 E2|z F E C|D E F2| E F F D|E2 F2|F F F2| F A A2|A E E G|G A G E| G E F|F F F A|A2 A E| E G G A|G E G2|E2 z2|z A A A| F2 E2|E2 F2|F2 F F|F2 F2| z F F F|F2 D2|F2 C C| DA, C2|C2 C F|F F F D| F2 C C|D A, C2|C2 D2|C4|'],\n",
       " ['[V: T',\n",
       "  'z c c A|A c c2|c A A2| d c c2|z c c A|A c c2| c2 d A|c2 A2|A A A2| G ^c d2|=c c c =B|c c c c| =B B c A|A A A ^c|d2 =c c| c =B c c|c2 c =B|c2 z2|z c c c| A2 A2|G2 B2|B2 A c|d2 c2| z c A B|A2 G2|A2 c F| F F F E|F2 A F|G B A G| A2 c F|F F F E|F2 B2|A4|'],\n",
       " ['[V: B',\n",
       "  'z F, C, F,|D, C, F,2|F, F, F,2| B,, F, C,2|z F, C, F,|D, C, F,2 | C, F, B,, D,|C,2 F,,2|F, F, F,2| D, A,, D,2|A, A, A, G,|C, F, C, A,| G, G,, C, F,|F, F, D, A,,|D,2 A, A,| A, G, C, F,|C, A, G,2|C,2 z2|zF, F, A,| D,2 A,,2|C,2 B,,2|B,,2 F, F,|B,,2 F,2| zF, F, B,,|F,2 G,2|D,2 E, F,| B,, D, C,2|F,,2 F, D,|C, B,, F, G,| D,2 E, F,|B,, D, C,2|F,,2 B,,2|F,,4|']]"
      ]
     },
     "execution_count": 13,
     "metadata": {},
     "output_type": "execute_result"
    }
   ],
   "source": [
    "d=[]\n",
    "for i in range(len(s1)):\n",
    "    d.append(s1[i].split('] '))\n",
    "d"
   ]
  },
  {
   "cell_type": "code",
   "execution_count": 14,
   "id": "statistical-charity",
   "metadata": {},
   "outputs": [],
   "source": [
    "a = {d[i][0]:d[i][1] for i in range(len(d))}"
   ]
  },
  {
   "cell_type": "code",
   "execution_count": 15,
   "id": "lined-hobby",
   "metadata": {},
   "outputs": [
    {
     "data": {
      "text/plain": [
       "{'[V: S': 'z A G A|F G A2|A c c2| B A G2|z A G A|F G A2| G A B A G F|G2 F2|F c c2| d e f2|e c c d|e f f e d c| d c F|c c d e|f2 e c| c d e f|f e d c d2|c2 z2|z f f e| d2^ c2|=c2 d2|d2 c B A|B2 A2| z A c d|c2 B2|A2 G A| B A G F G2|F2 F A|c d c B| A2 G A|B A G F G2|F2 F2|F4|',\n",
       " '[V: A': 'z F E C|D E F2|F F F2| F2 E2|z F E C|D E F2| E F F D|E2 F2|F F F2| F A A2|A E E G|G A G E| G E F|F F F A|A2 A E| E G G A|G E G2|E2 z2|z A A A| F2 E2|E2 F2|F2 F F|F2 F2| z F F F|F2 D2|F2 C C| DA, C2|C2 C F|F F F D| F2 C C|D A, C2|C2 D2|C4|',\n",
       " '[V: T': 'z c c A|A c c2|c A A2| d c c2|z c c A|A c c2| c2 d A|c2 A2|A A A2| G ^c d2|=c c c =B|c c c c| =B B c A|A A A ^c|d2 =c c| c =B c c|c2 c =B|c2 z2|z c c c| A2 A2|G2 B2|B2 A c|d2 c2| z c A B|A2 G2|A2 c F| F F F E|F2 A F|G B A G| A2 c F|F F F E|F2 B2|A4|',\n",
       " '[V: B': 'z F, C, F,|D, C, F,2|F, F, F,2| B,, F, C,2|z F, C, F,|D, C, F,2 | C, F, B,, D,|C,2 F,,2|F, F, F,2| D, A,, D,2|A, A, A, G,|C, F, C, A,| G, G,, C, F,|F, F, D, A,,|D,2 A, A,| A, G, C, F,|C, A, G,2|C,2 z2|zF, F, A,| D,2 A,,2|C,2 B,,2|B,,2 F, F,|B,,2 F,2| zF, F, B,,|F,2 G,2|D,2 E, F,| B,, D, C,2|F,,2 F, D,|C, B,, F, G,| D,2 E, F,|B,, D, C,2|F,,2 B,,2|F,,4|'}"
      ]
     },
     "execution_count": 15,
     "metadata": {},
     "output_type": "execute_result"
    }
   ],
   "source": [
    "a"
   ]
  },
  {
   "cell_type": "code",
   "execution_count": 16,
   "id": "prostate-exception",
   "metadata": {},
   "outputs": [],
   "source": [
    "l = list(a.values())"
   ]
  },
  {
   "cell_type": "code",
   "execution_count": 17,
   "id": "temporal-hunger",
   "metadata": {},
   "outputs": [],
   "source": [
    "import numpy as np"
   ]
  },
  {
   "cell_type": "code",
   "execution_count": 18,
   "id": "italic-relevance",
   "metadata": {},
   "outputs": [],
   "source": [
    "l1 = np.array([((''). join(l[i])).split('|')[:-1] for i in range(len(l))]);"
   ]
  },
  {
   "cell_type": "code",
   "execution_count": 19,
   "id": "pharmaceutical-quebec",
   "metadata": {},
   "outputs": [
    {
     "name": "stdout",
     "output_type": "stream",
     "text": [
      "[['z A G A' 'F G A2' 'A c c2' ' B A G2' 'z A G A' 'F G A2' ' G A B A G F'\n",
      "  'G2 F2' 'F c c2' ' d e f2' 'e c c d' 'e f f e d c' ' d c F' 'c c d e'\n",
      "  'f2 e c' ' c d e f' 'f e d c d2' 'c2 z2' 'z f f e' ' d2^ c2' '=c2 d2'\n",
      "  'd2 c B A' 'B2 A2' ' z A c d' 'c2 B2' 'A2 G A' ' B A G F G2' 'F2 F A'\n",
      "  'c d c B' ' A2 G A' 'B A G F G2' 'F2 F2' 'F4']\n",
      " ['z F E C' 'D E F2' 'F F F2' ' F2 E2' 'z F E C' 'D E F2' ' E F F D'\n",
      "  'E2 F2' 'F F F2' ' F A A2' 'A E E G' 'G A G E' ' G E F' 'F F F A'\n",
      "  'A2 A E' ' E G G A' 'G E G2' 'E2 z2' 'z A A A' ' F2 E2' 'E2 F2'\n",
      "  'F2 F F' 'F2 F2' ' z F F F' 'F2 D2' 'F2 C C' ' DA, C2' 'C2 C F'\n",
      "  'F F F D' ' F2 C C' 'D A, C2' 'C2 D2' 'C4']\n",
      " ['z c c A' 'A c c2' 'c A A2' ' d c c2' 'z c c A' 'A c c2' ' c2 d A'\n",
      "  'c2 A2' 'A A A2' ' G ^c d2' '=c c c =B' 'c c c c' ' =B B c A'\n",
      "  'A A A ^c' 'd2 =c c' ' c =B c c' 'c2 c =B' 'c2 z2' 'z c c c' ' A2 A2'\n",
      "  'G2 B2' 'B2 A c' 'd2 c2' ' z c A B' 'A2 G2' 'A2 c F' ' F F F E'\n",
      "  'F2 A F' 'G B A G' ' A2 c F' 'F F F E' 'F2 B2' 'A4']\n",
      " ['z F, C, F,' 'D, C, F,2' 'F, F, F,2' ' B,, F, C,2' 'z F, C, F,'\n",
      "  'D, C, F,2 ' ' C, F, B,, D,' 'C,2 F,,2' 'F, F, F,2' ' D, A,, D,2'\n",
      "  'A, A, A, G,' 'C, F, C, A,' ' G, G,, C, F,' 'F, F, D, A,,' 'D,2 A, A,'\n",
      "  ' A, G, C, F,' 'C, A, G,2' 'C,2 z2' 'zF, F, A,' ' D,2 A,,2' 'C,2 B,,2'\n",
      "  'B,,2 F, F,' 'B,,2 F,2' ' zF, F, B,,' 'F,2 G,2' 'D,2 E, F,'\n",
      "  ' B,, D, C,2' 'F,,2 F, D,' 'C, B,, F, G,' ' D,2 E, F,' 'B,, D, C,2'\n",
      "  'F,,2 B,,2' 'F,,4']]\n"
     ]
    }
   ],
   "source": [
    "print(l1)"
   ]
  },
  {
   "cell_type": "code",
   "execution_count": 20,
   "id": "corresponding-surveillance",
   "metadata": {},
   "outputs": [
    {
     "name": "stdout",
     "output_type": "stream",
     "text": [
      "['z A G A' 'z F E C' 'z c c A' 'z F, C, F,']\n"
     ]
    }
   ],
   "source": [
    "print(l1[:,0])"
   ]
  },
  {
   "cell_type": "code",
   "execution_count": 21,
   "id": "opening-tribune",
   "metadata": {},
   "outputs": [
    {
     "name": "stdout",
     "output_type": "stream",
     "text": [
      "z\n",
      "z\n",
      "z\n",
      "z\n"
     ]
    }
   ],
   "source": [
    "for i in range(len(l1[:,0])):\n",
    "    print(l1[:,0][i][0])"
   ]
  },
  {
   "cell_type": "code",
   "execution_count": 50,
   "id": "single-belgium",
   "metadata": {},
   "outputs": [
    {
     "data": {
      "text/plain": [
       "[[['z', 'A', 'G', 'A'],\n",
       "  ['z', 'F', 'E', 'C'],\n",
       "  ['z', 'c', 'c', 'A'],\n",
       "  ['z', 'F,', 'C,', 'F,']],\n",
       " [['F', 'G', 'A2'], ['D', 'E', 'F2'], ['A', 'c', 'c2'], ['D,', 'C,', 'F,2']],\n",
       " [['A', 'c', 'c2'], ['F', 'F', 'F2'], ['c', 'A', 'A2'], ['F,', 'F,', 'F,2']],\n",
       " [['', 'B', 'A', 'G2'],\n",
       "  ['', 'F2', 'E2'],\n",
       "  ['', 'd', 'c', 'c2'],\n",
       "  ['', 'B,,', 'F,', 'C,2']],\n",
       " [['z', 'A', 'G', 'A'],\n",
       "  ['z', 'F', 'E', 'C'],\n",
       "  ['z', 'c', 'c', 'A'],\n",
       "  ['z', 'F,', 'C,', 'F,']],\n",
       " [['F', 'G', 'A2'],\n",
       "  ['D', 'E', 'F2'],\n",
       "  ['A', 'c', 'c2'],\n",
       "  ['D,', 'C,', 'F,2', '']],\n",
       " [['', 'G', 'A', 'B', 'A', 'G', 'F'],\n",
       "  ['', 'E', 'F', 'F', 'D'],\n",
       "  ['', 'c2', 'd', 'A'],\n",
       "  ['', 'C,', 'F,', 'B,,', 'D,']],\n",
       " [['G2', 'F2'], ['E2', 'F2'], ['c2', 'A2'], ['C,2', 'F,,2']],\n",
       " [['F', 'c', 'c2'], ['F', 'F', 'F2'], ['A', 'A', 'A2'], ['F,', 'F,', 'F,2']],\n",
       " [['', 'd', 'e', 'f2'],\n",
       "  ['', 'F', 'A', 'A2'],\n",
       "  ['', 'G', '^c', 'd2'],\n",
       "  ['', 'D,', 'A,,', 'D,2']],\n",
       " [['e', 'c', 'c', 'd'],\n",
       "  ['A', 'E', 'E', 'G'],\n",
       "  ['=c', 'c', 'c', '=B'],\n",
       "  ['A,', 'A,', 'A,', 'G,']],\n",
       " [['e', 'f', 'f', 'e', 'd', 'c'],\n",
       "  ['G', 'A', 'G', 'E'],\n",
       "  ['c', 'c', 'c', 'c'],\n",
       "  ['C,', 'F,', 'C,', 'A,']],\n",
       " [['', 'd', 'c', 'F'],\n",
       "  ['', 'G', 'E', 'F'],\n",
       "  ['', '=B', 'B', 'c', 'A'],\n",
       "  ['', 'G,', 'G,,', 'C,', 'F,']],\n",
       " [['c', 'c', 'd', 'e'],\n",
       "  ['F', 'F', 'F', 'A'],\n",
       "  ['A', 'A', 'A', '^c'],\n",
       "  ['F,', 'F,', 'D,', 'A,,']],\n",
       " [['f2', 'e', 'c'], ['A2', 'A', 'E'], ['d2', '=c', 'c'], ['D,2', 'A,', 'A,']],\n",
       " [['', 'c', 'd', 'e', 'f'],\n",
       "  ['', 'E', 'G', 'G', 'A'],\n",
       "  ['', 'c', '=B', 'c', 'c'],\n",
       "  ['', 'A,', 'G,', 'C,', 'F,']],\n",
       " [['f', 'e', 'd', 'c', 'd2'],\n",
       "  ['G', 'E', 'G2'],\n",
       "  ['c2', 'c', '=B'],\n",
       "  ['C,', 'A,', 'G,2']],\n",
       " [['c2', 'z2'], ['E2', 'z2'], ['c2', 'z2'], ['C,2', 'z2']],\n",
       " [['z', 'f', 'f', 'e'],\n",
       "  ['z', 'A', 'A', 'A'],\n",
       "  ['z', 'c', 'c', 'c'],\n",
       "  ['zF,', 'F,', 'A,']],\n",
       " [['', 'd2^', 'c2'], ['', 'F2', 'E2'], ['', 'A2', 'A2'], ['', 'D,2', 'A,,2']],\n",
       " [['=c2', 'd2'], ['E2', 'F2'], ['G2', 'B2'], ['C,2', 'B,,2']],\n",
       " [['d2', 'c', 'B', 'A'],\n",
       "  ['F2', 'F', 'F'],\n",
       "  ['B2', 'A', 'c'],\n",
       "  ['B,,2', 'F,', 'F,']],\n",
       " [['B2', 'A2'], ['F2', 'F2'], ['d2', 'c2'], ['B,,2', 'F,2']],\n",
       " [['', 'z', 'A', 'c', 'd'],\n",
       "  ['', 'z', 'F', 'F', 'F'],\n",
       "  ['', 'z', 'c', 'A', 'B'],\n",
       "  ['', 'zF,', 'F,', 'B,,']],\n",
       " [['c2', 'B2'], ['F2', 'D2'], ['A2', 'G2'], ['F,2', 'G,2']],\n",
       " [['A2', 'G', 'A'], ['F2', 'C', 'C'], ['A2', 'c', 'F'], ['D,2', 'E,', 'F,']],\n",
       " [['', 'B', 'A', 'G', 'F', 'G2'],\n",
       "  ['', 'DA,', 'C2'],\n",
       "  ['', 'F', 'F', 'F', 'E'],\n",
       "  ['', 'B,,', 'D,', 'C,2']],\n",
       " [['F2', 'F', 'A'], ['C2', 'C', 'F'], ['F2', 'A', 'F'], ['F,,2', 'F,', 'D,']],\n",
       " [['c', 'd', 'c', 'B'],\n",
       "  ['F', 'F', 'F', 'D'],\n",
       "  ['G', 'B', 'A', 'G'],\n",
       "  ['C,', 'B,,', 'F,', 'G,']],\n",
       " [['', 'A2', 'G', 'A'],\n",
       "  ['', 'F2', 'C', 'C'],\n",
       "  ['', 'A2', 'c', 'F'],\n",
       "  ['', 'D,2', 'E,', 'F,']],\n",
       " [['B', 'A', 'G', 'F', 'G2'],\n",
       "  ['D', 'A,', 'C2'],\n",
       "  ['F', 'F', 'F', 'E'],\n",
       "  ['B,,', 'D,', 'C,2']],\n",
       " [['F2', 'F2'], ['C2', 'D2'], ['F2', 'B2'], ['F,,2', 'B,,2']],\n",
       " [['F4'], ['C4'], ['A4'], ['F,,4']]]"
      ]
     },
     "execution_count": 50,
     "metadata": {},
     "output_type": "execute_result"
    }
   ],
   "source": [
    "temp=[]\n",
    "temp1=[]\n",
    "for i in range(len(l1[0])):\n",
    "    for j in range(len(l1[:,i])):\n",
    "           temp.append(l1[:,i][j].split(' '))\n",
    "    temp1.append(temp)\n",
    "    temp = []\n",
    "temp1"
   ]
  },
  {
   "cell_type": "code",
   "execution_count": 147,
   "id": "noted-hello",
   "metadata": {},
   "outputs": [],
   "source": [
    "temp1=[]\n",
    "temp=[]\n",
    "for i in range(len(l1[0])):\n",
    "    for j in range(len(l1[:,i])):\n",
    "        temp.append(l1[:,i][j].split(' '))\n",
    "    temp1.append(temp)\n",
    "    temp =  [] \n",
    "temp1;"
   ]
  },
  {
   "cell_type": "code",
   "execution_count": 185,
   "id": "olympic-playback",
   "metadata": {},
   "outputs": [
    {
     "data": {
      "text/plain": [
       "'AFcF,'"
      ]
     },
     "execution_count": 185,
     "metadata": {},
     "output_type": "execute_result"
    }
   ],
   "source": [
    "temp1[0][0][1]+temp1[0][1][1]+temp1[0][2][1]+temp1[0][3][1]"
   ]
  },
  {
   "cell_type": "code",
   "execution_count": 264,
   "id": "upper-invention",
   "metadata": {},
   "outputs": [],
   "source": [
    "string = ''\n",
    "ar=[]\n",
    "for i in range(len(temp1)):\n",
    "    ar.append(list((zip(*temp1[i]))))"
   ]
  },
  {
   "cell_type": "code",
   "execution_count": 275,
   "id": "sustainable-joint",
   "metadata": {},
   "outputs": [
    {
     "data": {
      "text/plain": [
       "['zzzz',\n",
       " 'AFcF,',\n",
       " 'GEcC,',\n",
       " 'ACAF,',\n",
       " 'FDAD,',\n",
       " 'GEcC,',\n",
       " 'A2F2c2F,2',\n",
       " 'AFcF,',\n",
       " 'cFAF,',\n",
       " 'c2F2A2F,2',\n",
       " '',\n",
       " 'BF2dB,,',\n",
       " 'AE2cF,',\n",
       " 'zzzz',\n",
       " 'AFcF,',\n",
       " 'GEcC,',\n",
       " 'ACAF,',\n",
       " 'FDAD,',\n",
       " 'GEcC,',\n",
       " 'A2F2c2F,2',\n",
       " '',\n",
       " 'GEc2C,',\n",
       " 'AFdF,',\n",
       " 'BFAB,,',\n",
       " 'G2E2c2C,2',\n",
       " 'F2F2A2F,,2',\n",
       " 'FFAF,',\n",
       " 'cFAF,',\n",
       " 'c2F2A2F,2',\n",
       " '',\n",
       " 'dFGD,',\n",
       " 'eA^cA,,',\n",
       " 'f2A2d2D,2',\n",
       " 'eA=cA,',\n",
       " 'cEcA,',\n",
       " 'cEcA,',\n",
       " 'dG=BG,',\n",
       " 'eGcC,',\n",
       " 'fAcF,',\n",
       " 'fGcC,',\n",
       " 'eEcA,',\n",
       " '',\n",
       " 'dG=BG,',\n",
       " 'cEBG,,',\n",
       " 'FFcC,',\n",
       " 'cFAF,',\n",
       " 'cFAF,',\n",
       " 'dFAD,',\n",
       " 'eA^cA,,',\n",
       " 'f2A2d2D,2',\n",
       " 'eA=cA,',\n",
       " 'cEcA,',\n",
       " '',\n",
       " 'cEcA,',\n",
       " 'dG=BG,',\n",
       " 'eGcC,',\n",
       " 'fAcF,',\n",
       " 'fGc2C,',\n",
       " 'eEcA,',\n",
       " 'dG2=BG,2',\n",
       " 'c2E2c2C,2',\n",
       " 'z2z2z2z2',\n",
       " 'zzzzF,',\n",
       " 'fAcF,',\n",
       " 'fAcA,',\n",
       " '',\n",
       " 'd2^F2A2D,2',\n",
       " 'c2E2A2A,,2',\n",
       " '=c2E2G2C,2',\n",
       " 'd2F2B2B,,2',\n",
       " 'd2F2B2B,,2',\n",
       " 'cFAF,',\n",
       " 'BFcF,',\n",
       " 'B2F2d2B,,2',\n",
       " 'A2F2c2F,2',\n",
       " '',\n",
       " 'zzzzF,',\n",
       " 'AFcF,',\n",
       " 'cFAB,,',\n",
       " 'c2F2A2F,2',\n",
       " 'B2D2G2G,2',\n",
       " 'A2F2A2D,2',\n",
       " 'GCcE,',\n",
       " 'ACFF,',\n",
       " '',\n",
       " 'BDA,FB,,',\n",
       " 'AC2FD,',\n",
       " 'F2C2F2F,,2',\n",
       " 'FCAF,',\n",
       " 'AFFD,',\n",
       " 'cFGC,',\n",
       " 'dFBB,,',\n",
       " 'cFAF,',\n",
       " 'BDGG,',\n",
       " '',\n",
       " 'A2F2A2D,2',\n",
       " 'GCcE,',\n",
       " 'ACFF,',\n",
       " 'BDFB,,',\n",
       " 'AA,FD,',\n",
       " 'GC2FC,2',\n",
       " 'F2C2F2F,,2',\n",
       " 'F2D2B2B,,2',\n",
       " 'F4C4A4F,,4']"
      ]
     },
     "execution_count": 275,
     "metadata": {},
     "output_type": "execute_result"
    }
   ],
   "source": [
    "sound = []\n",
    "for i in range(len(ar)):\n",
    "    for j in range(len(ar[i])):\n",
    "        print\n",
    "        sound.append(''.join(ar[i][j]))\n",
    "sound"
   ]
  },
  {
   "cell_type": "code",
   "execution_count": 276,
   "id": "material-dealer",
   "metadata": {},
   "outputs": [],
   "source": [
    "vocab = set(sound)"
   ]
  },
  {
   "cell_type": "code",
   "execution_count": 277,
   "id": "assigned-baghdad",
   "metadata": {},
   "outputs": [
    {
     "data": {
      "text/plain": [
       "{'',\n",
       " '=c2E2G2C,2',\n",
       " 'A2F2A2D,2',\n",
       " 'A2F2c2F,2',\n",
       " 'AA,FD,',\n",
       " 'AC2FD,',\n",
       " 'ACAF,',\n",
       " 'ACFF,',\n",
       " 'AE2cF,',\n",
       " 'AFFD,',\n",
       " 'AFcF,',\n",
       " 'AFdF,',\n",
       " 'B2D2G2G,2',\n",
       " 'B2F2d2B,,2',\n",
       " 'BDA,FB,,',\n",
       " 'BDFB,,',\n",
       " 'BDGG,',\n",
       " 'BF2dB,,',\n",
       " 'BFAB,,',\n",
       " 'BFcF,',\n",
       " 'F2C2F2F,,2',\n",
       " 'F2D2B2B,,2',\n",
       " 'F2F2A2F,,2',\n",
       " 'F4C4A4F,,4',\n",
       " 'FCAF,',\n",
       " 'FDAD,',\n",
       " 'FFAF,',\n",
       " 'FFcC,',\n",
       " 'G2E2c2C,2',\n",
       " 'GC2FC,2',\n",
       " 'GCcE,',\n",
       " 'GEc2C,',\n",
       " 'GEcC,',\n",
       " 'c2E2A2A,,2',\n",
       " 'c2E2c2C,2',\n",
       " 'c2F2A2F,2',\n",
       " 'cEBG,,',\n",
       " 'cEcA,',\n",
       " 'cFAB,,',\n",
       " 'cFAF,',\n",
       " 'cFGC,',\n",
       " 'd2F2B2B,,2',\n",
       " 'd2^F2A2D,2',\n",
       " 'dFAD,',\n",
       " 'dFBB,,',\n",
       " 'dFGD,',\n",
       " 'dG2=BG,2',\n",
       " 'dG=BG,',\n",
       " 'eA=cA,',\n",
       " 'eA^cA,,',\n",
       " 'eEcA,',\n",
       " 'eGcC,',\n",
       " 'f2A2d2D,2',\n",
       " 'fAcA,',\n",
       " 'fAcF,',\n",
       " 'fGc2C,',\n",
       " 'fGcC,',\n",
       " 'z2z2z2z2',\n",
       " 'zzzz',\n",
       " 'zzzzF,'}"
      ]
     },
     "execution_count": 277,
     "metadata": {},
     "output_type": "execute_result"
    }
   ],
   "source": [
    "vocab"
   ]
  },
  {
   "cell_type": "code",
   "execution_count": 278,
   "id": "subjective-fight",
   "metadata": {},
   "outputs": [],
   "source": [
    "char_to_index = {char_: ind for ind, char_ in enumerate (vocab)} "
   ]
  },
  {
   "cell_type": "code",
   "execution_count": 279,
   "id": "social-ozone",
   "metadata": {},
   "outputs": [
    {
     "data": {
      "text/plain": [
       "{'': 0,\n",
       " 'AFcF,': 1,\n",
       " 'dFGD,': 2,\n",
       " 'z2z2z2z2': 3,\n",
       " 'AC2FD,': 4,\n",
       " 'AFFD,': 5,\n",
       " 'B2F2d2B,,2': 6,\n",
       " 'd2^F2A2D,2': 7,\n",
       " 'eEcA,': 8,\n",
       " 'f2A2d2D,2': 9,\n",
       " 'zzzzF,': 10,\n",
       " 'c2F2A2F,2': 11,\n",
       " 'cFAF,': 12,\n",
       " 'eGcC,': 13,\n",
       " 'GEcC,': 14,\n",
       " 'AFdF,': 15,\n",
       " 'dG=BG,': 16,\n",
       " 'A2F2A2D,2': 17,\n",
       " 'FDAD,': 18,\n",
       " 'c2E2c2C,2': 19,\n",
       " 'BDFB,,': 20,\n",
       " 'cEcA,': 21,\n",
       " 'BFcF,': 22,\n",
       " 'AE2cF,': 23,\n",
       " 'd2F2B2B,,2': 24,\n",
       " 'F4C4A4F,,4': 25,\n",
       " 'cEBG,,': 26,\n",
       " 'cFGC,': 27,\n",
       " 'FCAF,': 28,\n",
       " 'fGc2C,': 29,\n",
       " 'zzzz': 30,\n",
       " 'fAcF,': 31,\n",
       " 'A2F2c2F,2': 32,\n",
       " 'fGcC,': 33,\n",
       " 'F2D2B2B,,2': 34,\n",
       " 'BF2dB,,': 35,\n",
       " 'BDA,FB,,': 36,\n",
       " '=c2E2G2C,2': 37,\n",
       " 'AA,FD,': 38,\n",
       " 'GEc2C,': 39,\n",
       " 'ACFF,': 40,\n",
       " 'F2C2F2F,,2': 41,\n",
       " 'B2D2G2G,2': 42,\n",
       " 'eA^cA,,': 43,\n",
       " 'ACAF,': 44,\n",
       " 'GC2FC,2': 45,\n",
       " 'FFcC,': 46,\n",
       " 'BDGG,': 47,\n",
       " 'eA=cA,': 48,\n",
       " 'dG2=BG,2': 49,\n",
       " 'F2F2A2F,,2': 50,\n",
       " 'BFAB,,': 51,\n",
       " 'dFBB,,': 52,\n",
       " 'GCcE,': 53,\n",
       " 'dFAD,': 54,\n",
       " 'c2E2A2A,,2': 55,\n",
       " 'cFAB,,': 56,\n",
       " 'FFAF,': 57,\n",
       " 'fAcA,': 58,\n",
       " 'G2E2c2C,2': 59}"
      ]
     },
     "execution_count": 279,
     "metadata": {},
     "output_type": "execute_result"
    }
   ],
   "source": [
    "char_to_index"
   ]
  },
  {
   "cell_type": "code",
   "execution_count": null,
   "id": "several-island",
   "metadata": {},
   "outputs": [],
   "source": []
  }
 ],
 "metadata": {
  "kernelspec": {
   "display_name": "Python 3",
   "language": "python",
   "name": "python3"
  },
  "language_info": {
   "codemirror_mode": {
    "name": "ipython",
    "version": 3
   },
   "file_extension": ".py",
   "mimetype": "text/x-python",
   "name": "python",
   "nbconvert_exporter": "python",
   "pygments_lexer": "ipython3",
   "version": "3.8.8"
  }
 },
 "nbformat": 4,
 "nbformat_minor": 5
}
