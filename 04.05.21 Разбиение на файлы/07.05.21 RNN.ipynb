{
 "cells": [
  {
   "cell_type": "code",
   "execution_count": 2,
   "id": "moral-knowing",
   "metadata": {},
   "outputs": [],
   "source": [
    "path = \"C://Users//HP//Desktop//Kursovaya//Kursovaya//04.05.21 Разбиение на файлы//ABC_New// All For Me Grog.abc\"\n",
    "with open(path,'r') as f:\n",
    "    text = f.read()"
   ]
  },
  {
   "cell_type": "code",
   "execution_count": 5,
   "id": "future-caribbean",
   "metadata": {},
   "outputs": [],
   "source": [
    "list_str = text.split(\"\\n\")"
   ]
  },
  {
   "cell_type": "code",
   "execution_count": 9,
   "id": "intensive-iceland",
   "metadata": {},
   "outputs": [],
   "source": [
    "list_ind = []\n",
    "for el in list_str:\n",
    "    if el.startswith('K:'):\n",
    "        list_ind.append(list_str.index(el))"
   ]
  },
  {
   "cell_type": "code",
   "execution_count": 10,
   "id": "bearing-giant",
   "metadata": {},
   "outputs": [
    {
     "data": {
      "text/plain": [
       "[6]"
      ]
     },
     "execution_count": 10,
     "metadata": {},
     "output_type": "execute_result"
    }
   ],
   "source": [
    "list_ind"
   ]
  },
  {
   "cell_type": "code",
   "execution_count": 13,
   "id": "eastern-mortality",
   "metadata": {
    "scrolled": false
   },
   "outputs": [
    {
     "name": "stdout",
     "output_type": "stream",
     "text": [
      "['de|fagf gedc|e2e2 d4||', '|: D2FE D2>A,2|B,CDB, A,4| A2AA A2GF|F2E4FG|', 'A2AF D2DC|B,CDB, A,2DE|FAGF GECD|E2E2 D4:|', '']\n"
     ]
    }
   ],
   "source": [
    "if len(list_ind)==1:\n",
    "    print(list_str[list_ind[0]+1:])\n",
    "else:\n",
    "    for i in range(len(list_ind)-1):\n",
    "        print(list_str[list_ind[i]+1:list_ind[i+1]])\n",
    "    print(list_str[list_ind[-1]:])"
   ]
  },
  {
   "cell_type": "code",
   "execution_count": 19,
   "id": "three-reaction",
   "metadata": {},
   "outputs": [],
   "source": [
    "path1 =\"C://Users//HP//Desktop//Kursovaya//Kursovaya//04.05.21 Разбиение на файлы//ABC_New//High Level Bridge.abc\"\n",
    "with open(path1,'r') as f:\n",
    "    text1 = f.read()"
   ]
  },
  {
   "cell_type": "code",
   "execution_count": 20,
   "id": "labeled-newcastle",
   "metadata": {},
   "outputs": [],
   "source": [
    "list_str1 = text1.split(\"\\n\")"
   ]
  },
  {
   "cell_type": "code",
   "execution_count": 21,
   "id": "compact-bundle",
   "metadata": {},
   "outputs": [],
   "source": [
    "list_ind1 = []\n",
    "for el in list_str1:\n",
    "    if el.startswith('K:'):\n",
    "        list_ind1.append(list_str1.index(el))"
   ]
  },
  {
   "cell_type": "code",
   "execution_count": 25,
   "id": "agricultural-agriculture",
   "metadata": {},
   "outputs": [],
   "source": [
    "l=[]\n",
    "if len(list_ind1)==1:\n",
    "    l.append(list_str1[list_ind1[0]+1:])\n",
    "else:\n",
    "    for i in range(len(list_ind1)-1):\n",
    "        l.append(list_str1[list_ind1[i]+1:list_ind1[i+1]])\n",
    "    l.append(list_str1[list_ind1[-1]+1:])"
   ]
  },
  {
   "cell_type": "code",
   "execution_count": 27,
   "id": "editorial-outside",
   "metadata": {},
   "outputs": [],
   "source": [
    "l = [item for sublist in l for item in sublist]"
   ]
  },
  {
   "cell_type": "code",
   "execution_count": 28,
   "id": "peaceful-nepal",
   "metadata": {},
   "outputs": [
    {
     "data": {
      "text/plain": [
       "['BA|(3GAB DG B,DGB|dgBd GBAG|(3ABc FA DFAc|ed^cd ed (3=cBA|',\n",
       " '(3GAB DG B,DGB dgBd GBAG|EFGA Bc^cd|(3fed (3cBA G2:|',\n",
       " 'AG|FdAd FdAd|(3FED FA dAFA|BdGd BdGd|(3BAG Bd gdBd|',\n",
       " 'ceAe ceAe|(3cBA ce gece|(3dcd fd gece|dcde d2:|',\n",
       " '',\n",
       " '']"
      ]
     },
     "execution_count": 28,
     "metadata": {},
     "output_type": "execute_result"
    }
   ],
   "source": [
    "l"
   ]
  },
  {
   "cell_type": "code",
   "execution_count": 1,
   "id": "suitable-locator",
   "metadata": {},
   "outputs": [],
   "source": [
    "import os"
   ]
  },
  {
   "cell_type": "code",
   "execution_count": 2,
   "id": "constitutional-treasury",
   "metadata": {},
   "outputs": [],
   "source": [
    "directory = \"C://Users//HP//Desktop//Kursovaya//Kursovaya//04.05.21 Разбиение на файлы//ABC_New\""
   ]
  },
  {
   "cell_type": "code",
   "execution_count": 3,
   "id": "settled-observer",
   "metadata": {},
   "outputs": [],
   "source": [
    "files = os.listdir(directory)"
   ]
  },
  {
   "cell_type": "code",
   "execution_count": 4,
   "id": "spare-budget",
   "metadata": {},
   "outputs": [],
   "source": [
    "files;"
   ]
  },
  {
   "cell_type": "code",
   "execution_count": 5,
   "id": "cardiac-swiss",
   "metadata": {},
   "outputs": [],
   "source": [
    "import re"
   ]
  },
  {
   "cell_type": "code",
   "execution_count": 6,
   "id": "furnished-massage",
   "metadata": {},
   "outputs": [],
   "source": [
    "def make_musik(name): \n",
    "    \n",
    "    path_abc = \"C://Users//HP//Desktop//Kursovaya//Kursovaya//04.05.21 Разбиение на файлы//ABC_New//\"+\"{}\".format(name)\n",
    "    with open(path_abc,'r') as f:\n",
    "        file = f.read()\n",
    "    \n",
    "    listt = file.split(\"\\n\")\n",
    "    \n",
    "    ind = []\n",
    "    for el in listt:\n",
    "        if el.startswith('K:'):\n",
    "            ind.append(listt.index(el))\n",
    "    mus_list=[]\n",
    "    if len(ind)==1:\n",
    "        for el in listt[ind[0]+1:]:\n",
    "            el = re.sub('P:(?:.*?).*','',el)\n",
    "            if not el == '':\n",
    "                mus_list.append(el)\n",
    "    else:\n",
    "        for i in range(len(ind)-1):\n",
    "            for el in listt[ind[i]+1:ind[i+1]]:\n",
    "                el = re.sub('P:(?:.*?).*','',el)\n",
    "                if not el == '':\n",
    "                    mus_list.append(el)\n",
    "        for el in listt[ind[-1]+1:]:\n",
    "            el = re.sub('P:(?:.*?).*','',el)\n",
    "            if not el == '':\n",
    "                mus_list.append(el)\n",
    "        \n",
    "    #mus_list = [item for sublist in mus_list for item in sublist]\n",
    "    \n",
    "    return ''.join(mus_list)"
   ]
  },
  {
   "cell_type": "code",
   "execution_count": 117,
   "id": "czech-disease",
   "metadata": {},
   "outputs": [
    {
     "data": {
      "text/plain": [
       "' All For Me Grog.abc'"
      ]
     },
     "execution_count": 117,
     "metadata": {},
     "output_type": "execute_result"
    }
   ],
   "source": [
    "files[0]"
   ]
  },
  {
   "cell_type": "code",
   "execution_count": 163,
   "id": "unnecessary-plasma",
   "metadata": {
    "scrolled": true
   },
   "outputs": [
    {
     "data": {
      "text/plain": [
       "'|Adfd gdfd|Adfd ed (3Bcd|Adfd gdfd|efec d2(3dcB|Adfd gdfd|Adfd ed (3Bcd|Adfd gdfd|efec d2fg|]|afbf afde|fded Bcde|afbf afde|fdec d2fg|afbf afde|fded Bcde|afbf afde|fded d2|A|~B2AG BGAG|BGAG EFGA|~B2AG BGAG|EGFA G3:||:F2Ad fdAF|G2Bd ~g3B|ABce gece|defg afdA|F2Ad fdAF|G2Bd ~g3B|ABce gece|[1 dfec dBAG:|[2 dfec defg|]|:a2fd afda|g2e=c gefg|a2fd afda|[1 gece defg:|[2 gece d3B:|'"
      ]
     },
     "execution_count": 163,
     "metadata": {},
     "output_type": "execute_result"
    }
   ],
   "source": [
    "make_musik(files[793])"
   ]
  },
  {
   "cell_type": "code",
   "execution_count": 124,
   "id": "impressed-maryland",
   "metadata": {},
   "outputs": [
    {
     "data": {
      "text/plain": [
       "793"
      ]
     },
     "execution_count": 124,
     "metadata": {},
     "output_type": "execute_result"
    }
   ],
   "source": [
    "files.index(r\"The Dionne Reel.abc\")"
   ]
  },
  {
   "cell_type": "code",
   "execution_count": 7,
   "id": "connected-injection",
   "metadata": {},
   "outputs": [],
   "source": [
    "list_klass = [3*['sad'],['happy'],12*['sad'],['happy'],18*['sad'],['happy'],10*['sad'],['happy'],21*['sad'],['happy']\n",
    "              ,2*['sad'],['happy','sad','happy'],13*['sad'],['sad','sad','happy'],2*['sad'],['happy'],4*['sad'],['happy','sad','sad'],\n",
    "             3*['happy'],4*['sad'],['happy','sad','happy','sad','happy','happy','sad','happy'],4*['sad'],4*['happy'],4*['sad'],\n",
    "             2*['happy'],4*['sad'],['happy','sad'],4*['happy'],['sad','happy','sad','happy','happy','sad','happy','sad'],5*['happy'],\n",
    "             ['sad','happy','sad','happy','happy','sad'],7*['happy'],['sad','happy','happy','sad','happy','sad','happy','sad','sad',\n",
    "                                                                     'happy','happy','sad','happy','sad','sad'],\n",
    "             13*['happy'],['sad'],2*['happy'],2*['sad'],2*['happy'],2*['sad'],['happy','sad'],2*['happy'],2*['sad'],3*['happy'],['sad'],\n",
    "             5*['happy'],['sad'],2*['happy'],2*['sad'],2*['happy'],['sad'],7*['happy'],['sad'],2*['happy'],2*['sad'],['happy'],4*['sad'],\n",
    "             ['happy','sad','happy','sad','happy'],6*['sad'],4*['happy'],['sad','happy','sad','sad','happy'],3*['sad'],3*['happy'],\n",
    "             ['sad','happy'],2*['sad'],2*['happy'],['sad','happy','happy','sad'],4*['happy'],['sad','happy'],2*['sad'],['happy','sad'],\n",
    "             2*['happy'],5*['sad'],['happy'],3*['sad'],9*['happy'],['sad'],5*['happy'],['sad'],3*['happy'],['sad','happy','happy','sad',\n",
    "                                                                                                           'happy','sad','sad'],\n",
    "             3*['happy'],['sad'],4*['happy'],['sad'],3*['happy'],2*['sad'],4*['happy'],['sad','happy','happy','sad'],4*['happy'],\n",
    "             4*['happy','sad'],['sad'],4*['happy'],2*['sad','happy'],2*['happy'],['sad'],3*['happy'],['sad'],4*['happy'],['sad'],\n",
    "              2*['happy'],2*['sad'],3*['happy','sad'],8*['happy'],2*['sad'],['happy','sad','sad','happy','sad','sad','happy','sad','happy',\n",
    "                                                                            'happy','sad'],\n",
    "             6*['happy'],['sad'],4*['happy'],2*['sad','happy'],['happy'],7*['sad'],['happy','sad'],6*['happy'],2*['sad','happy'],4*['happy'],\n",
    "             2*['sad'],3*['happy'],2*['sad'],7*['happy'],2*['sad','happy'],2*['happy'],3*['sad','happy'],2*['sad'],['happy','sad'],3*['happy'],\n",
    "             2*['sad','happy'],2*['happy'],3*['sad','happy'],4*['happy'],['sad'],3*['happy'],['sad'],2*['happy'],8*['sad'],['happy','sad'],\n",
    "             6*['happy'],2*['sad','happy'],7*['happy'],3*['sad'],5*['happy'],4*['sad'],['happy'],2*['sad'],2*['happy'],2*['sad','happy'],\n",
    "             5*['happy'],2*['sad','happy'],3*['sad'],3*['happy'],2*['sad','happy'],2*['happy'],2*['sad'],2*['happy'],['sad'],8*['happy'],\n",
    "             2*['sad'],3*['happy'],2*['sad'],7*['happy'],['sad'],2*['happy'],['sad'],13*['happy'],['sad'],5*['happy'],\n",
    "             ['sad'],6*['happy'],2*['sad','happy'],2*['sad'],2*['happy'],['sad'],3*['happy'],2*['sad'],2*['happy'],3*['sad'],['happy'],\n",
    "             3*['sad'],['happy'],2*['sad'],2*['happy','sad'],3*['happy'],['sad'],2*['happy'],['sad'],2*['happy'],2*['sad'],['happy'],\n",
    "             5*['sad'],3*['happy'],['sad'],6*['happy'],['sad'],12*['happy'],['sad'],3*['happy'],['sad'],2*['happy'],2*['sad'],\n",
    "             4*['happy'],['sad'],2*['happy'],['sad'],3*['happy'],2*['sad','happy'],4*['sad'],4*['happy'],2*['sad'],4*['happy'],\n",
    "             2*['sad','happy'],3*['sad'],['happy'],3*['sad'],4*['happy'],5*['sad'],4*['happy'],['sad'],2*['happy'],3*['sad'],\n",
    "             6*['happy'],5*['sad'],2*['happy','sad'],6*['happy'],2*['sad'],4*['happy'],['sad','happy'],2*['sad'],['happy','sad','sad'],3*['happy'],\n",
    "             ['sad'],4*['happy'],2*['sad','happy'],['happy'],2*['sad'],['happy','sad'],2*['happy'],3*['sad'],2*['happy'],2*['sad'],\n",
    "             5*['happy'],['sad','happy'],3*['sad'],5*['happy'],3*['sad'],4*['happy'],['sad'],5*['happy'],2*['sad'],3*['happy'],['sad'],\n",
    "              2*['happy'],2*['sad','happy'],9*['happy'],3*['sad'],['happy','sad'],2*['happy'],2*['sad'],['happy'],5*['sad'],['happy','sad'],\n",
    "             3*['happy'],2*['sad','happy'],['happy'],3*['sad'],3*['happy'],2*['sad'],8*['happy'],['sad','happy','sad']]"
   ]
  },
  {
   "cell_type": "code",
   "execution_count": 8,
   "id": "latest-market",
   "metadata": {},
   "outputs": [],
   "source": [
    "list_klass = [item for sublist in list_klass for item in sublist]"
   ]
  },
  {
   "cell_type": "code",
   "execution_count": 9,
   "id": "available-boating",
   "metadata": {},
   "outputs": [
    {
     "data": {
      "text/plain": [
       "923"
      ]
     },
     "execution_count": 9,
     "metadata": {},
     "output_type": "execute_result"
    }
   ],
   "source": [
    "len(list_klass)"
   ]
  },
  {
   "cell_type": "code",
   "execution_count": 110,
   "id": "racial-hormone",
   "metadata": {},
   "outputs": [
    {
     "data": {
      "text/plain": [
       "['sad', 'happy', 'sad']"
      ]
     },
     "execution_count": 110,
     "metadata": {},
     "output_type": "execute_result"
    }
   ],
   "source": [
    "list_klass[920:923]"
   ]
  },
  {
   "cell_type": "code",
   "execution_count": 102,
   "id": "golden-spider",
   "metadata": {},
   "outputs": [
    {
     "data": {
      "text/plain": [
       "\"The Grandchildren's Waltz.abc\""
      ]
     },
     "execution_count": 102,
     "metadata": {},
     "output_type": "execute_result"
    }
   ],
   "source": [
    "files[803]"
   ]
  },
  {
   "cell_type": "code",
   "execution_count": 30,
   "id": "induced-console",
   "metadata": {},
   "outputs": [
    {
     "data": {
      "text/plain": [
       "['happy', 'sad', 'happy', 'sad']"
      ]
     },
     "execution_count": 30,
     "metadata": {},
     "output_type": "execute_result"
    }
   ],
   "source": [
    "2*['happy','sad']"
   ]
  },
  {
   "cell_type": "code",
   "execution_count": 126,
   "id": "accomplished-contributor",
   "metadata": {},
   "outputs": [],
   "source": [
    "k1 = [1,2,3]\n",
    "k2 = [1,2,3]"
   ]
  },
  {
   "cell_type": "code",
   "execution_count": 132,
   "id": "confident-submission",
   "metadata": {},
   "outputs": [],
   "source": [
    "zip_iterator = zip(k1,k2)\n",
    "k3 = dict(zip_iterator)"
   ]
  },
  {
   "cell_type": "code",
   "execution_count": 10,
   "id": "environmental-joseph",
   "metadata": {},
   "outputs": [],
   "source": [
    "l1=[]\n",
    "for i in range(len(files)):\n",
    "    l1.append(make_musik(files[i]))\n",
    "zipp = zip(l1,list_klass)\n",
    "sett = dict(zipp)"
   ]
  },
  {
   "cell_type": "code",
   "execution_count": 13,
   "id": "played-secretary",
   "metadata": {},
   "outputs": [],
   "source": [
    "vocab = list(set([t for f in sett.keys() for t in f.split('|')]))"
   ]
  },
  {
   "cell_type": "code",
   "execution_count": 17,
   "id": "antique-compatibility",
   "metadata": {},
   "outputs": [],
   "source": [
    "vocab_size = len(vocab)"
   ]
  },
  {
   "cell_type": "code",
   "execution_count": 19,
   "id": "divided-accountability",
   "metadata": {},
   "outputs": [],
   "source": [
    "takt_to_ind = {t: i for i,t in enumerate(vocab)}\n",
    "idx_to_word = { i: t for i, t in enumerate(vocab) }"
   ]
  },
  {
   "cell_type": "code",
   "execution_count": 34,
   "id": "conscious-department",
   "metadata": {},
   "outputs": [],
   "source": [
    "import numpy as np\n",
    "from numpy.random import randn"
   ]
  },
  {
   "cell_type": "code",
   "execution_count": 38,
   "id": "average-fleet",
   "metadata": {},
   "outputs": [],
   "source": [
    "def createInputs(text):\n",
    "    inputs = []\n",
    "    for w in text.split('|'):\n",
    "        v = np.zeros((vocab_size, 1))\n",
    "        v[takt_to_ind[w]] = 1\n",
    "        inputs.append(v)\n",
    "    \n",
    "    return inputs"
   ]
  },
  {
   "cell_type": "code",
   "execution_count": 23,
   "id": "understood-mineral",
   "metadata": {},
   "outputs": [],
   "source": [
    "class RNN: \n",
    "    def __init__(self,input_size, output_size, hidden_size=64):\n",
    "        \n",
    "        self.Whh = randn(hidden_size, hidden_size) / 1000\n",
    "        self.Wxh = randn(hidden_size, input_size) / 1000\n",
    "        self.Why = randn(output_size, hidden_size) / 1000\n",
    "\n",
    "        self.bh = np.zeros((hidden_size, 1))\n",
    "        self.by = np.zeros((output_size, 1))\n",
    "        \n",
    "\n",
    "    def forward(self, inputs):\n",
    "        \n",
    "        h = np.zeros((self.Whh.shape[0], 1))\n",
    " \n",
    "        self.last_inputs = inputs\n",
    "        self.last_hs = { 0: h }\n",
    "\n",
    "        for i, x in enumerate(inputs):\n",
    "            h = np.tanh(self.Wxh @ x + self.Whh @ h + self.bh)\n",
    "            self.last_hs[i + 1] = h\n",
    "\n",
    "        y = self.Why @ h + self.by\n",
    " \n",
    "        return y, h\n",
    "\n",
    "\n",
    "    def backprop(self, d_y, learn_rate=2e-2):\n",
    "\n",
    "        n = len(self.last_inputs)\n",
    " \n",
    "        d_Why = d_y @ self.last_hs[n].T\n",
    "        d_by = d_y\n",
    "        \n",
    "        d_Whh = np.zeros(self.Whh.shape)\n",
    "        d_Wxh = np.zeros(self.Wxh.shape)\n",
    "        d_bh = np.zeros(self.bh.shape)\n",
    "        \n",
    "        d_h = self.Why.T @ d_y\n",
    "        \n",
    "        for t in reversed(range(n)):\n",
    "\n",
    "            temp = ((1 - self.last_hs[t + 1] ** 2) * d_h)\n",
    "\n",
    "            d_bh += temp\n",
    "\n",
    "            d_Whh += temp @ self.last_hs[t].T\n",
    "\n",
    "            d_Wxh += temp @ self.last_inputs[t].T\n",
    "\n",
    "            d_h = self.Whh @ temp\n",
    "        \n",
    "        for d in [d_Wxh, d_Whh, d_Why, d_bh, d_by]:\n",
    "            np.clip(d, -1, 1, out=d)\n",
    "            \n",
    "        self.Whh -= learn_rate * d_Whh\n",
    "        self.Wxh -= learn_rate * d_Wxh\n",
    "        self.Why -= learn_rate * d_Why\n",
    "        self.bh -= learn_rate * d_bh\n",
    "        self.by -= learn_rate * d_by"
   ]
  },
  {
   "cell_type": "code",
   "execution_count": 24,
   "id": "unnecessary-conditioning",
   "metadata": {},
   "outputs": [],
   "source": [
    "def softmax(xs):\n",
    "    return np.exp(xs) / sum(np.exp(xs))"
   ]
  },
  {
   "cell_type": "code",
   "execution_count": 32,
   "id": "occasional-bruce",
   "metadata": {},
   "outputs": [],
   "source": [
    "import random"
   ]
  },
  {
   "cell_type": "code",
   "execution_count": 36,
   "id": "nonprofit-annex",
   "metadata": {},
   "outputs": [],
   "source": [
    "def processData(data, backprop=True):\n",
    "    rnn = RNN(vocab_size, 2)\n",
    "    items = list(data.items())\n",
    "    random.shuffle(items)\n",
    " \n",
    "    loss = 0\n",
    "    num_correct = 0\n",
    " \n",
    "    for x, y in items:\n",
    "        inputs = createInputs(x)\n",
    "        if y == 'sad':\n",
    "            target = 0\n",
    "        else:\n",
    "            target = 1\n",
    " \n",
    "        out, _ = rnn.forward(inputs)\n",
    "        probs = softmax(out)\n",
    "\n",
    "        loss -= np.log(probs[target])\n",
    "        num_correct += int(np.argmax(probs) == target)\n",
    " \n",
    "        if backprop:\n",
    "\n",
    "            d_L_d_y = probs\n",
    "            d_L_d_y[target] -= 1\n",
    "\n",
    "            rnn.backprop(d_L_d_y)\n",
    " \n",
    "    return loss / len(data), num_correct / len(data)"
   ]
  },
  {
   "cell_type": "code",
   "execution_count": 30,
   "id": "exotic-ability",
   "metadata": {},
   "outputs": [],
   "source": [
    "l2=[]\n",
    "for i in range(len(files[:600])):\n",
    "    l2.append(make_musik(files[i]))\n",
    "zippp = zip(l2,list_klass[:len(l2)])\n",
    "settt = dict(zippp)"
   ]
  },
  {
   "cell_type": "code",
   "execution_count": 39,
   "id": "brutal-planning",
   "metadata": {
    "scrolled": true
   },
   "outputs": [
    {
     "name": "stdout",
     "output_type": "stream",
     "text": [
      "--- Epoch 100\n",
      "Train:\tLoss 0.691 | Accuracy: 0.548\n",
      "--- Epoch 200\n",
      "Train:\tLoss 0.692 | Accuracy: 0.538\n",
      "--- Epoch 300\n",
      "Train:\tLoss 0.694 | Accuracy: 0.521\n",
      "--- Epoch 400\n",
      "Train:\tLoss 0.695 | Accuracy: 0.529\n",
      "--- Epoch 500\n",
      "Train:\tLoss 0.691 | Accuracy: 0.489\n",
      "--- Epoch 600\n",
      "Train:\tLoss 0.693 | Accuracy: 0.524\n",
      "--- Epoch 700\n",
      "Train:\tLoss 0.693 | Accuracy: 0.506\n",
      "--- Epoch 800\n",
      "Train:\tLoss 0.694 | Accuracy: 0.521\n",
      "--- Epoch 900\n",
      "Train:\tLoss 0.693 | Accuracy: 0.528\n",
      "--- Epoch 1000\n",
      "Train:\tLoss 0.694 | Accuracy: 0.519\n"
     ]
    }
   ],
   "source": [
    "for epoch in range(1000):\n",
    "    train_loss, train_acc = processData(settt)\n",
    " \n",
    "    if epoch % 100 == 99:\n",
    "        print('--- Epoch %d' % (epoch + 1))\n",
    "        print('Train:\\tLoss %.3f | Accuracy: %.3f' % (train_loss, train_acc))"
   ]
  },
  {
   "cell_type": "code",
   "execution_count": null,
   "id": "streaming-sheep",
   "metadata": {},
   "outputs": [],
   "source": []
  }
 ],
 "metadata": {
  "kernelspec": {
   "display_name": "Python 3",
   "language": "python",
   "name": "python3"
  },
  "language_info": {
   "codemirror_mode": {
    "name": "ipython",
    "version": 3
   },
   "file_extension": ".py",
   "mimetype": "text/x-python",
   "name": "python",
   "nbconvert_exporter": "python",
   "pygments_lexer": "ipython3",
   "version": "3.8.8"
  }
 },
 "nbformat": 4,
 "nbformat_minor": 5
}
