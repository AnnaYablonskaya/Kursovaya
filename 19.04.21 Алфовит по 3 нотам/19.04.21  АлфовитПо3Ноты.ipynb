{
 "cells": [
  {
   "cell_type": "code",
   "execution_count": 81,
   "id": "adaptive-collapse",
   "metadata": {},
   "outputs": [],
   "source": [
    "file = 'C:\\\\Users\\\\HP\\\\Desktop\\\\Kursovaya\\\\Kursovaya\\\\19.04.21 Алфовит по 3 нотам\\\\ABC_ALL.abc';\n",
    "with open(file,'r') as f:\n",
    "    text = f.read()"
   ]
  },
  {
   "cell_type": "code",
   "execution_count": 82,
   "id": "distinguished-execution",
   "metadata": {},
   "outputs": [],
   "source": [
    "text;"
   ]
  },
  {
   "cell_type": "code",
   "execution_count": 3,
   "id": "polished-saint",
   "metadata": {},
   "outputs": [],
   "source": [
    "text=text.replace('\\n','').replace(' ','').replace('/','').replace('=','').replace('^','').replace('>','').replace('-','').replace('[','').replace(']','').replace('_','').replace('(','').replace(')','').replace('!mf!','').replace('!breath!','').replace('!p!','').replace(':','')"
   ]
  },
  {
   "cell_type": "code",
   "execution_count": 4,
   "id": "endless-gasoline",
   "metadata": {},
   "outputs": [],
   "source": [
    "for el in text:\n",
    "    if el.isdigit():\n",
    "        text = text.replace(el,'')\n",
    "text;"
   ]
  },
  {
   "cell_type": "code",
   "execution_count": 5,
   "id": "forced-homeless",
   "metadata": {},
   "outputs": [],
   "source": [
    "takt_list = text.split('|')\n",
    "takt_list;"
   ]
  },
  {
   "cell_type": "code",
   "execution_count": 6,
   "id": "clear-teens",
   "metadata": {},
   "outputs": [],
   "source": [
    "def make_List(string):\n",
    "    list1=[]\n",
    "    list1[:0]=string\n",
    "    return list1"
   ]
  },
  {
   "cell_type": "code",
   "execution_count": 7,
   "id": "communist-compensation",
   "metadata": {},
   "outputs": [],
   "source": [
    "listt = []\n",
    "for el in takt_list:\n",
    "    listt.append(make_List(el))\n",
    "listt;"
   ]
  },
  {
   "cell_type": "code",
   "execution_count": 8,
   "id": "breeding-certificate",
   "metadata": {},
   "outputs": [
    {
     "data": {
      "text/plain": [
       "['z', 'F,', ',', 'C,', ',', 'F,', ',']"
      ]
     },
     "execution_count": 8,
     "metadata": {},
     "output_type": "execute_result"
    }
   ],
   "source": [
    "for i  in range(len(listt[9])):\n",
    "    if(listt[9][i] == ','):\n",
    "        listt[9][i-1] = ''.join([listt[9][i-1],listt[9][i]])\n",
    "listt[9]"
   ]
  },
  {
   "cell_type": "code",
   "execution_count": 9,
   "id": "increased-packet",
   "metadata": {},
   "outputs": [
    {
     "data": {
      "text/plain": [
       "['z', 'F,', 'C,', 'F,']"
      ]
     },
     "execution_count": 9,
     "metadata": {},
     "output_type": "execute_result"
    }
   ],
   "source": [
    "for el in listt[9]:\n",
    "    if(el == ','):\n",
    "        listt[9].remove(el);\n",
    "listt[9]"
   ]
  },
  {
   "cell_type": "code",
   "execution_count": 10,
   "id": "chinese-diary",
   "metadata": {},
   "outputs": [],
   "source": [
    "for el in listt:\n",
    "    for i in range(len(el)):\n",
    "        if(el[i] == ','):\n",
    "            el[i-1] =''.join([el[i-1],el[i]])"
   ]
  },
  {
   "cell_type": "code",
   "execution_count": 11,
   "id": "intimate-cornwall",
   "metadata": {},
   "outputs": [],
   "source": [
    "for el in listt:\n",
    "    for elem in el:\n",
    "        if(elem == ','):\n",
    "            el.remove(elem);\n",
    "listt;"
   ]
  },
  {
   "cell_type": "code",
   "execution_count": 12,
   "id": "confident-maine",
   "metadata": {},
   "outputs": [],
   "source": [
    "for el in listt:\n",
    "    for i in range(len(el)):\n",
    "        if(el[i] == ',,'):\n",
    "            el[i-1] =','.join([el[i-1],''])"
   ]
  },
  {
   "cell_type": "code",
   "execution_count": 13,
   "id": "starting-nightlife",
   "metadata": {},
   "outputs": [],
   "source": [
    "for el in listt:\n",
    "    for elem in el:\n",
    "        if(elem == ',,'):\n",
    "            el.remove(elem);\n",
    "listt;"
   ]
  },
  {
   "cell_type": "code",
   "execution_count": 14,
   "id": "center-hospital",
   "metadata": {},
   "outputs": [],
   "source": [
    "listt;"
   ]
  },
  {
   "cell_type": "code",
   "execution_count": 15,
   "id": "covered-grenada",
   "metadata": {},
   "outputs": [],
   "source": [
    " import collections"
   ]
  },
  {
   "cell_type": "code",
   "execution_count": 16,
   "id": "anticipated-tradition",
   "metadata": {},
   "outputs": [],
   "source": [
    "counter = []\n",
    "for elem in listt:\n",
    "    c = collections.Counter(elem)\n",
    "    counter.append(c)\n",
    "    c = 0"
   ]
  },
  {
   "cell_type": "code",
   "execution_count": 17,
   "id": "fitted-attribute",
   "metadata": {},
   "outputs": [],
   "source": [
    "counter;"
   ]
  },
  {
   "cell_type": "code",
   "execution_count": 18,
   "id": "polish-fruit",
   "metadata": {
    "scrolled": true
   },
   "outputs": [
    {
     "data": {
      "text/plain": [
       "['A', 'z', 'G']"
      ]
     },
     "execution_count": 18,
     "metadata": {},
     "output_type": "execute_result"
    }
   ],
   "source": [
    "sorted(counter[0], key = counter[0].get, reverse= True)"
   ]
  },
  {
   "cell_type": "code",
   "execution_count": 19,
   "id": "potential-legislature",
   "metadata": {},
   "outputs": [
    {
     "data": {
      "text/plain": [
       "Counter({'z': 1, 'A': 2, 'G': 1})"
      ]
     },
     "execution_count": 19,
     "metadata": {},
     "output_type": "execute_result"
    }
   ],
   "source": [
    "counter[0]"
   ]
  },
  {
   "cell_type": "code",
   "execution_count": 20,
   "id": "starting-silence",
   "metadata": {},
   "outputs": [],
   "source": [
    "temp = []\n",
    "for el in counter:\n",
    "    temp.append(sorted(el, key = el.get, reverse= True)[:3])"
   ]
  },
  {
   "cell_type": "code",
   "execution_count": 21,
   "id": "varying-laugh",
   "metadata": {},
   "outputs": [],
   "source": [
    "temp;"
   ]
  },
  {
   "cell_type": "code",
   "execution_count": 22,
   "id": "portable-colors",
   "metadata": {},
   "outputs": [
    {
     "name": "stdout",
     "output_type": "stream",
     "text": [
      "z\n",
      "A\n",
      "G\n"
     ]
    }
   ],
   "source": [
    "a=list(counter[0].elements())\n",
    "for i in range(len(a)):\n",
    "    if i == a.index(a[i]) and a[i] in temp[0]:\n",
    "        print(a[i])"
   ]
  },
  {
   "cell_type": "code",
   "execution_count": 23,
   "id": "available-slide",
   "metadata": {},
   "outputs": [],
   "source": [
    "t=[]\n",
    "temp1 = []\n",
    "l = []\n",
    "for i in range(len(counter)):\n",
    "    t = list(counter[i].elements())\n",
    "    for j in range(len(t)):\n",
    "        if j == t.index(t[j]) and t[j] in temp[i]:\n",
    "            temp1.append(t[j])\n",
    "    l.append(''.join(temp1))\n",
    "    t = []\n",
    "    temp1 = []"
   ]
  },
  {
   "cell_type": "code",
   "execution_count": 24,
   "id": "closing-belly",
   "metadata": {},
   "outputs": [],
   "source": [
    "l;"
   ]
  },
  {
   "cell_type": "code",
   "execution_count": 25,
   "id": "stable-arbitration",
   "metadata": {},
   "outputs": [],
   "source": [
    "alphobit = set(l)"
   ]
  },
  {
   "cell_type": "code",
   "execution_count": 26,
   "id": "norman-wyoming",
   "metadata": {},
   "outputs": [],
   "source": [
    "alphobit.remove('')"
   ]
  },
  {
   "cell_type": "code",
   "execution_count": 27,
   "id": "postal-personal",
   "metadata": {},
   "outputs": [],
   "source": [
    "char_to_index = {char_: ind for ind, char_ in enumerate (alphobit)} \n",
    "char_to_index;"
   ]
  },
  {
   "cell_type": "code",
   "execution_count": 28,
   "id": "stable-calibration",
   "metadata": {},
   "outputs": [],
   "source": [
    "file1 = 'C:\\\\Users\\\\HP\\\\Desktop\\\\Kursovaya\\\\Kursovaya\\\\19.04.21 Алфовит по 3 нотам\\\\Ave_Maria_Arcadelt.abc';\n",
    "with open(file1,'r') as f:\n",
    "    musik1 = f.read()"
   ]
  },
  {
   "cell_type": "code",
   "execution_count": 29,
   "id": "compliant-pipeline",
   "metadata": {},
   "outputs": [],
   "source": [
    "musik1;"
   ]
  },
  {
   "cell_type": "code",
   "execution_count": 92,
   "id": "amateur-questionnaire",
   "metadata": {},
   "outputs": [],
   "source": [
    "def make_takt(musik):\n",
    "    res_list = []\n",
    "    musik = musik.replace('[V: A]','').replace(r'[V: S]','').replace(r'[V: T]','').replace(r'[V: B]','').replace(r'[V: SI]','')\n",
    "    musik = musik.replace(r'[V: SII]','').replace(r'[V: TI]','').replace('[V: TII]','')\n",
    "    musik = musik.replace('[V: 1] ','').replace('[V: 2]','').replace('[V: 3]','').replace('\\n','').replace(' ','')\n",
    "    musik = musik.replace('/','').replace('=','').replace('^','').replace('>','')\n",
    "    musik = musik.replace('-','').replace('(','').replace(')','').replace('!pp!','').replace('!breath!','').replace('[','').replace(']','')\n",
    "    musik = musik.replace('!mf','').replace('!p!','').replace(r'\"largo\"','').replace(r'!fermata!','').replace(r'\"pi\\`ulento\"','').replace(r'\"rall.\"','')\n",
    "    musik = musik.replace(r'\"atempo\"','').replace('!','').replace('_','')\n",
    "    for el in musik:\n",
    "        if el.isdigit():\n",
    "            musik = musik.replace(el,'')\n",
    "    list_takt = musik.split('|')\n",
    "    for el in list_takt:\n",
    "        res_list.append(make_List(el))\n",
    "        \n",
    "    for el in res_list:\n",
    "        for i in range(len(el)):\n",
    "            if(el[i] == ','):\n",
    "                el[i-1] =''.join([el[i-1],el[i]])\n",
    "    for el in res_list:\n",
    "        for elem in el:\n",
    "            if(elem == ','):\n",
    "                el.remove(elem);\n",
    "    for el in res_list:\n",
    "        for i in range(len(el)):\n",
    "            if(el[i] == ',,'):\n",
    "                el[i-1] =','.join([el[i-1],''])\n",
    "    for el in res_list:\n",
    "        for elem in el:\n",
    "            if(elem == ',,'):\n",
    "                el.remove(elem);\n",
    "    counter1 = []\n",
    "    for elem in res_list:\n",
    "        coun = collections.Counter(elem)\n",
    "        counter1.append(coun)\n",
    "        coun = 0\n",
    "    tempor = []\n",
    "    t1=[]\n",
    "    t2 = []\n",
    "    res = []\n",
    "    for el in counter1:\n",
    "        tempor.append(sorted(el, key = el.get, reverse= True)[:3])\n",
    "    for i in range(len(counter1)):\n",
    "        t1 = list(counter1[i].elements())\n",
    "        for j in range(len(t1)):\n",
    "            if j == t1.index(t1[j]) and t1[j] in tempor[i]:\n",
    "                t2.append(t1[j])\n",
    "        res.append(''.join(t2))\n",
    "        t1 = []\n",
    "        t2 = []\n",
    "    return res[:-1]\n",
    "    "
   ]
  },
  {
   "cell_type": "code",
   "execution_count": 85,
   "id": "brave-request",
   "metadata": {},
   "outputs": [],
   "source": [
    "vocab = set(make_takt(text))\n",
    "char_to_index= {char_: ind for ind, char_ in enumerate (vocab)}"
   ]
  },
  {
   "cell_type": "code",
   "execution_count": 31,
   "id": "split-cleveland",
   "metadata": {},
   "outputs": [],
   "source": [
    "file2 = 'C:\\\\Users\\\\HP\\\\Desktop\\\\Kursovaya\\\\Kursovaya\\\\19.04.21 Алфовит по 3 нотам\\\\Ave_Maria_Giovanni.abc';\n",
    "with open(file2,'r') as f:\n",
    "    musik2 = f.read()"
   ]
  },
  {
   "cell_type": "code",
   "execution_count": 32,
   "id": "configured-mixer",
   "metadata": {},
   "outputs": [],
   "source": [
    "make_takt(musik2);"
   ]
  },
  {
   "cell_type": "code",
   "execution_count": 33,
   "id": "willing-genesis",
   "metadata": {},
   "outputs": [],
   "source": [
    "file3 = 'C:\\\\Users\\\\HP\\\\Desktop\\\\Kursovaya\\\\Kursovaya\\\\19.04.21 Алфовит по 3 нотам\\\\Ave_Maria_Gombert.abc';\n",
    "with open(file3,'r') as f:\n",
    "    musik3 = f.read()"
   ]
  },
  {
   "cell_type": "code",
   "execution_count": 34,
   "id": "forced-magic",
   "metadata": {},
   "outputs": [],
   "source": [
    "make_takt(musik3);"
   ]
  },
  {
   "cell_type": "code",
   "execution_count": 35,
   "id": "subsequent-stomach",
   "metadata": {},
   "outputs": [],
   "source": [
    "keys = list(char_to_index.keys());"
   ]
  },
  {
   "cell_type": "code",
   "execution_count": 36,
   "id": "played-grove",
   "metadata": {},
   "outputs": [
    {
     "data": {
      "text/plain": [
       "310"
      ]
     },
     "execution_count": 36,
     "metadata": {},
     "output_type": "execute_result"
    }
   ],
   "source": [
    "char_to_index.get(\"MCD\")"
   ]
  },
  {
   "cell_type": "code",
   "execution_count": 37,
   "id": "exempt-science",
   "metadata": {},
   "outputs": [],
   "source": [
    "def musik_number(musik):\n",
    "    res = [];\n",
    "    for elem in make_takt(musik):\n",
    "        if elem in keys:\n",
    "            res.append(char_to_index.get(elem))\n",
    "    return res"
   ]
  },
  {
   "cell_type": "code",
   "execution_count": 38,
   "id": "alike-malawi",
   "metadata": {},
   "outputs": [],
   "source": [
    "musik_number(musik1);\n",
    "musik_number(musik2);\n",
    "musik_number(musik3);"
   ]
  },
  {
   "cell_type": "code",
   "execution_count": 86,
   "id": "imported-shipping",
   "metadata": {},
   "outputs": [],
   "source": [
    "vocab_size = len(vocab)"
   ]
  },
  {
   "cell_type": "code",
   "execution_count": 40,
   "id": "southern-leather",
   "metadata": {},
   "outputs": [],
   "source": [
    "import numpy as np"
   ]
  },
  {
   "cell_type": "code",
   "execution_count": 87,
   "id": "breeding-creator",
   "metadata": {},
   "outputs": [],
   "source": [
    "def create_input(inp):\n",
    "    res = []\n",
    "    for el in make_takt(inp):\n",
    "        v = np.zeros((vocab_size,1))\n",
    "        v[char_to_index[el]]=1\n",
    "        res.append(v)\n",
    "    return res"
   ]
  },
  {
   "cell_type": "code",
   "execution_count": 51,
   "id": "electoral-recipient",
   "metadata": {},
   "outputs": [],
   "source": [
    "from numpy.random import randn"
   ]
  },
  {
   "cell_type": "code",
   "execution_count": 88,
   "id": "supposed-delight",
   "metadata": {},
   "outputs": [],
   "source": [
    "class RNN: \n",
    "    def __init__(self,input_size, output_size, hidden_size=64):\n",
    "        \n",
    "        self.Whh = randn(hidden_size, hidden_size) / 1000\n",
    "        self.Wxh = randn(hidden_size, input_size) / 1000\n",
    "        self.Why = randn(output_size, hidden_size) / 1000\n",
    "\n",
    "        self.bh = np.zeros((hidden_size, 1))\n",
    "        self.by = np.zeros((output_size, 1))\n",
    "        \n",
    "\n",
    "    def forward(self, inputs):\n",
    "        \n",
    "        h = np.zeros((self.Whh.shape[0], 1))\n",
    " \n",
    "        self.last_inputs = inputs\n",
    "        self.last_hs = { 0: h }\n",
    "\n",
    "        for i, x in enumerate(inputs):\n",
    "            h = np.tanh(self.Wxh @ x + self.Whh @ h + self.bh)\n",
    "            self.last_hs[i + 1] = h\n",
    "\n",
    "        y = self.Why @ h + self.by\n",
    " \n",
    "        return y, h\n",
    "\n",
    "\n",
    "    def backprop(self, d_y, learn_rate=2e-2):\n",
    "\n",
    "        n = len(self.last_inputs)\n",
    " \n",
    "        d_Why = d_y @ self.last_hs[n].T\n",
    "        d_by = d_y\n",
    "        \n",
    "        d_Whh = np.zeros(self.Whh.shape)\n",
    "        d_Wxh = np.zeros(self.Wxh.shape)\n",
    "        d_bh = np.zeros(self.bh.shape)\n",
    "        \n",
    "        d_h = self.Why.T @ d_y\n",
    "        \n",
    "        for t in reversed(range(n)):\n",
    "\n",
    "            temp = ((1 - self.last_hs[t + 1] ** 2) * d_h)\n",
    "\n",
    "            d_bh += temp\n",
    "\n",
    "            d_Whh += temp @ self.last_hs[t].T\n",
    "\n",
    "            d_Wxh += temp @ self.last_inputs[t].T\n",
    "\n",
    "            d_h = self.Whh @ temp\n",
    "        \n",
    "        for d in [d_Wxh, d_Whh, d_Why, d_bh, d_by]:\n",
    "            np.clip(d, -1, 1, out=d)\n",
    "            \n",
    "        self.Whh -= learn_rate * d_Whh\n",
    "        self.Wxh -= learn_rate * d_Wxh\n",
    "        self.Why -= learn_rate * d_Why\n",
    "        self.bh -= learn_rate * d_bh\n",
    "        self.by -= learn_rate * d_by"
   ]
  },
  {
   "cell_type": "code",
   "execution_count": 53,
   "id": "welsh-michael",
   "metadata": {},
   "outputs": [],
   "source": [
    "def softmax(xs):\n",
    "    return np.exp(xs) / sum(np.exp(xs))"
   ]
  },
  {
   "cell_type": "code",
   "execution_count": 54,
   "id": "increasing-working",
   "metadata": {},
   "outputs": [],
   "source": [
    "import random"
   ]
  },
  {
   "cell_type": "code",
   "execution_count": 89,
   "id": "thousand-pipeline",
   "metadata": {},
   "outputs": [],
   "source": [
    "def processData(data, backprop=True):\n",
    "    rnn = RNN(vocab_size, 2)\n",
    "    items = list(data.items())\n",
    "    random.shuffle(items)\n",
    " \n",
    "    loss = 0\n",
    "    num_correct = 0\n",
    " \n",
    "    for x, y in items:\n",
    "        inputs = create_input(x)\n",
    "        target = int(y)\n",
    " \n",
    "        out, _ = rnn.forward(inputs)\n",
    "        probs = softmax(out)\n",
    "\n",
    "        loss -= np.log(probs[target])\n",
    "        num_correct += int(np.argmax(probs) == target)\n",
    " \n",
    "        if backprop:\n",
    "\n",
    "            d_L_d_y = probs\n",
    "            d_L_d_y[target] -= 1\n",
    "\n",
    "            rnn.backprop(d_L_d_y)\n",
    " \n",
    "    return loss / len(data), num_correct / len(data)"
   ]
  },
  {
   "cell_type": "code",
   "execution_count": null,
   "id": "external-desire",
   "metadata": {},
   "outputs": [],
   "source": [
    "vocab = "
   ]
  },
  {
   "cell_type": "code",
   "execution_count": 47,
   "id": "amino-daily",
   "metadata": {},
   "outputs": [],
   "source": [
    "file4 = 'C:\\\\Users\\\\HP\\\\Desktop\\\\Kursovaya\\\\Kursovaya\\\\19.04.21 Алфовит по 3 нотам\\\\Ave_Verum_Gonzato.abc';\n",
    "with open(file3,'r') as f:\n",
    "    musik4 = f.read()"
   ]
  },
  {
   "cell_type": "code",
   "execution_count": 96,
   "id": "sweet-slovenia",
   "metadata": {},
   "outputs": [],
   "source": [
    "train_data = {musik1: 1, musik2: 1, musik4: 0}"
   ]
  },
  {
   "cell_type": "code",
   "execution_count": 91,
   "id": "aware-adelaide",
   "metadata": {},
   "outputs": [
    {
     "name": "stdout",
     "output_type": "stream",
     "text": [
      "--- Epoch 100\n",
      "Train:\tLoss 0.697 | Accuracy: 0.333\n",
      "--- Epoch 200\n",
      "Train:\tLoss 0.697 | Accuracy: 0.667\n",
      "--- Epoch 300\n",
      "Train:\tLoss 0.697 | Accuracy: 0.000\n",
      "--- Epoch 400\n",
      "Train:\tLoss 0.697 | Accuracy: 0.000\n",
      "--- Epoch 500\n",
      "Train:\tLoss 0.697 | Accuracy: 0.333\n",
      "--- Epoch 600\n",
      "Train:\tLoss 0.697 | Accuracy: 0.000\n",
      "--- Epoch 700\n",
      "Train:\tLoss 0.697 | Accuracy: 0.333\n",
      "--- Epoch 800\n",
      "Train:\tLoss 0.697 | Accuracy: 0.000\n",
      "--- Epoch 900\n",
      "Train:\tLoss 0.697 | Accuracy: 0.333\n",
      "--- Epoch 1000\n",
      "Train:\tLoss 0.697 | Accuracy: 0.667\n"
     ]
    }
   ],
   "source": [
    "for epoch in range(1000):\n",
    "    train_loss, train_acc = processData(train_data)\n",
    " \n",
    "    if epoch % 100 == 99:\n",
    "        print('--- Epoch %d' % (epoch + 1))\n",
    "        print('Train:\\tLoss %.3f | Accuracy: %.3f' % (train_loss, train_acc))"
   ]
  },
  {
   "cell_type": "code",
   "execution_count": 93,
   "id": "documented-pipeline",
   "metadata": {},
   "outputs": [],
   "source": [
    "file5 = 'C:\\\\Users\\\\HP\\\\Desktop\\\\Kursovaya\\\\Kursovaya\\\\19.04.21 Алфовит по 3 нотам\\\\Ave_Regina.abc';\n",
    "with open(file5,'r') as f:\n",
    "    musik5 = f.read()"
   ]
  },
  {
   "cell_type": "code",
   "execution_count": 95,
   "id": "chronic-application",
   "metadata": {},
   "outputs": [],
   "source": [
    "test_data = {musik3: 1, musik5: 0}"
   ]
  },
  {
   "cell_type": "code",
   "execution_count": 97,
   "id": "classical-truth",
   "metadata": {},
   "outputs": [
    {
     "name": "stdout",
     "output_type": "stream",
     "text": [
      "--- Epoch 100\n",
      "Test:\tLoss 0.693 | Accuracy: 0.500\n",
      "--- Epoch 200\n",
      "Test:\tLoss 0.693 | Accuracy: 0.500\n",
      "--- Epoch 300\n",
      "Test:\tLoss 0.693 | Accuracy: 0.500\n",
      "--- Epoch 400\n",
      "Test:\tLoss 0.693 | Accuracy: 0.500\n",
      "--- Epoch 500\n",
      "Test:\tLoss 0.693 | Accuracy: 0.000\n",
      "--- Epoch 600\n",
      "Test:\tLoss 0.693 | Accuracy: 0.000\n",
      "--- Epoch 700\n",
      "Test:\tLoss 0.693 | Accuracy: 0.500\n",
      "--- Epoch 800\n",
      "Test:\tLoss 0.693 | Accuracy: 0.000\n",
      "--- Epoch 900\n",
      "Test:\tLoss 0.693 | Accuracy: 1.000\n",
      "--- Epoch 1000\n",
      "Test:\tLoss 0.693 | Accuracy: 1.000\n"
     ]
    }
   ],
   "source": [
    "for epoch in range(1000):\n",
    "    if epoch % 100 == 99:\n",
    "        print('--- Epoch %d' % (epoch + 1))\n",
    "        test_loss, test_acc = processData(test_data, backprop=False)\n",
    "        print('Test:\\tLoss %.3f | Accuracy: %.3f' % (test_loss, test_acc))\n"
   ]
  },
  {
   "cell_type": "code",
   "execution_count": null,
   "id": "incoming-polish",
   "metadata": {},
   "outputs": [],
   "source": []
  }
 ],
 "metadata": {
  "kernelspec": {
   "display_name": "Python 3",
   "language": "python",
   "name": "python3"
  },
  "language_info": {
   "codemirror_mode": {
    "name": "ipython",
    "version": 3
   },
   "file_extension": ".py",
   "mimetype": "text/x-python",
   "name": "python",
   "nbconvert_exporter": "python",
   "pygments_lexer": "ipython3",
   "version": "3.8.8"
  }
 },
 "nbformat": 4,
 "nbformat_minor": 5
}
