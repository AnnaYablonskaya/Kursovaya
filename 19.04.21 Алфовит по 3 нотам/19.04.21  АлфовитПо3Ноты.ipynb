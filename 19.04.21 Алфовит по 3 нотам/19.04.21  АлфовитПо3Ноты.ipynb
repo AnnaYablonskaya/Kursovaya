{
 "cells": [
  {
   "cell_type": "code",
   "execution_count": 1,
   "id": "adaptive-collapse",
   "metadata": {},
   "outputs": [],
   "source": [
    "file = 'C:\\\\Users\\\\HP\\\\Desktop\\\\Kursovaya\\\\ABC.abc';\n",
    "with open(file,'r') as f:\n",
    "    text = f.read()"
   ]
  },
  {
   "cell_type": "code",
   "execution_count": 2,
   "id": "distinguished-execution",
   "metadata": {},
   "outputs": [
    {
     "data": {
      "text/plain": [
       "133"
      ]
     },
     "execution_count": 2,
     "metadata": {},
     "output_type": "execute_result"
    }
   ],
   "source": [
    "text.index('[')"
   ]
  },
  {
   "cell_type": "code",
   "execution_count": 3,
   "id": "later-language",
   "metadata": {},
   "outputs": [],
   "source": [
    "text1 = text[133:]"
   ]
  },
  {
   "cell_type": "code",
   "execution_count": 4,
   "id": "nominated-external",
   "metadata": {},
   "outputs": [],
   "source": [
    "song = text1.split('\\n')"
   ]
  },
  {
   "cell_type": "code",
   "execution_count": 5,
   "id": "rubber-associate",
   "metadata": {},
   "outputs": [],
   "source": [
    "takt = ''.join(''.join(''.join(''.join(''.join(song).split('[V: S]'\n",
    "                                                          )).split('[V: A]')).split('[V: T]')).split('[V: B]')).split('|')[:-1]"
   ]
  },
  {
   "cell_type": "code",
   "execution_count": 6,
   "id": "accepting-wallpaper",
   "metadata": {},
   "outputs": [],
   "source": [
    "takt;"
   ]
  },
  {
   "cell_type": "code",
   "execution_count": 7,
   "id": "solar-property",
   "metadata": {},
   "outputs": [],
   "source": [
    "List = []\n",
    "for i in range(len(takt)):\n",
    "    List.append(''.join(takt[i].split(' ')))"
   ]
  },
  {
   "cell_type": "code",
   "execution_count": 8,
   "id": "covered-grenada",
   "metadata": {},
   "outputs": [],
   "source": [
    " import collections"
   ]
  },
  {
   "cell_type": "code",
   "execution_count": 9,
   "id": "anticipated-tradition",
   "metadata": {},
   "outputs": [],
   "source": [
    "counter = []\n",
    "for elem in List:\n",
    "    c = collections.Counter(elem)\n",
    "    counter.append(c)\n",
    "    c = 0"
   ]
  },
  {
   "cell_type": "code",
   "execution_count": 25,
   "id": "fitted-attribute",
   "metadata": {},
   "outputs": [],
   "source": [
    "counter;"
   ]
  },
  {
   "cell_type": "code",
   "execution_count": 11,
   "id": "polish-fruit",
   "metadata": {
    "scrolled": true
   },
   "outputs": [
    {
     "data": {
      "text/plain": [
       "[',', 'D', 'C', 'F', '2']"
      ]
     },
     "execution_count": 11,
     "metadata": {},
     "output_type": "execute_result"
    }
   ],
   "source": [
    "sorted(counter[10], key = counter[10].get, reverse= True)"
   ]
  },
  {
   "cell_type": "code",
   "execution_count": 28,
   "id": "innovative-miracle",
   "metadata": {},
   "outputs": [
    {
     "data": {
      "text/plain": [
       "['z', 'F', 'E', 'C']"
      ]
     },
     "execution_count": 28,
     "metadata": {},
     "output_type": "execute_result"
    }
   ],
   "source": [
    "sorted(counter[3], key = counter[3].get, reverse= True)"
   ]
  },
  {
   "cell_type": "code",
   "execution_count": 16,
   "id": "potential-legislature",
   "metadata": {},
   "outputs": [
    {
     "data": {
      "text/plain": [
       "Counter({'z': 1, 'A': 2, 'G': 1})"
      ]
     },
     "execution_count": 16,
     "metadata": {},
     "output_type": "execute_result"
    }
   ],
   "source": [
    "counter[0]"
   ]
  },
  {
   "cell_type": "code",
   "execution_count": 29,
   "id": "agreed-consequence",
   "metadata": {},
   "outputs": [
    {
     "data": {
      "text/plain": [
       "[['A', 'z', 'G']]"
      ]
     },
     "execution_count": 29,
     "metadata": {},
     "output_type": "execute_result"
    }
   ],
   "source": [
    "a = []\n",
    "b = []\n",
    "for el in sorted(counter[0], key = counter[0].get, reverse= True):\n",
    "    if(el.isalpha()):\n",
    "        a.append(el)\n",
    "b.append(a[:3]) \n",
    "b"
   ]
  },
  {
   "cell_type": "code",
   "execution_count": 30,
   "id": "concrete-mexico",
   "metadata": {
    "scrolled": true
   },
   "outputs": [
    {
     "data": {
      "text/plain": [
       "['z', 'A', 'A', 'G']"
      ]
     },
     "execution_count": 30,
     "metadata": {},
     "output_type": "execute_result"
    }
   ],
   "source": [
    "k =list(counter[0].elements())\n",
    "k"
   ]
  },
  {
   "cell_type": "code",
   "execution_count": 31,
   "id": "automated-track",
   "metadata": {},
   "outputs": [
    {
     "name": "stdout",
     "output_type": "stream",
     "text": [
      "z\n",
      "A\n",
      "G\n"
     ]
    }
   ],
   "source": [
    "for i in range(len(k)):\n",
    "    if i == k.index(k[i]) and  k[i] in a:\n",
    "        print(k[i]) "
   ]
  },
  {
   "cell_type": "code",
   "execution_count": 32,
   "id": "frank-dodge",
   "metadata": {},
   "outputs": [],
   "source": [
    "temp = []\n",
    "list_acc= []\n",
    "for i in range(len(counter)):\n",
    "    for el in sorted(counter[i], key = counter[i].get, reverse= True):\n",
    "        if(el.isalpha()):\n",
    "            temp.append(el)\n",
    "    list_acc.append(temp[:3])\n",
    "    temp = []\n",
    "list_acc;"
   ]
  },
  {
   "cell_type": "code",
   "execution_count": 34,
   "id": "available-slide",
   "metadata": {},
   "outputs": [],
   "source": [
    "temp = []\n",
    "temp1 = []\n",
    "l = []\n",
    "for i in range(len(counter)):\n",
    "    temp = list(counter[i].elements())\n",
    "    for j in range(len(temp)):\n",
    "        if j == temp.index(temp[j]) and temp[j] in list_acc[i]:\n",
    "            temp1.append(temp[j])\n",
    "    l.append(''.join(temp1))\n",
    "    temp = []\n",
    "    temp1 = []\n",
    "l;"
   ]
  },
  {
   "cell_type": "code",
   "execution_count": 35,
   "id": "stable-arbitration",
   "metadata": {},
   "outputs": [],
   "source": [
    "alphobit = set(l)"
   ]
  },
  {
   "cell_type": "code",
   "execution_count": 37,
   "id": "postal-personal",
   "metadata": {},
   "outputs": [],
   "source": [
    "char_to_index = {char_: ind for ind, char_ in enumerate (alphobit)} \n",
    "char_to_index;"
   ]
  },
  {
   "cell_type": "code",
   "execution_count": null,
   "id": "stable-calibration",
   "metadata": {},
   "outputs": [],
   "source": []
  }
 ],
 "metadata": {
  "kernelspec": {
   "display_name": "Python 3",
   "language": "python",
   "name": "python3"
  },
  "language_info": {
   "codemirror_mode": {
    "name": "ipython",
    "version": 3
   },
   "file_extension": ".py",
   "mimetype": "text/x-python",
   "name": "python",
   "nbconvert_exporter": "python",
   "pygments_lexer": "ipython3",
   "version": "3.8.8"
  }
 },
 "nbformat": 4,
 "nbformat_minor": 5
}
