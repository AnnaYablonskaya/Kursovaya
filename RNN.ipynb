{
 "cells": [
  {
   "cell_type": "code",
   "execution_count": 1,
   "id": "accredited-difference",
   "metadata": {},
   "outputs": [],
   "source": [
    "path = \"C://Users//HP//Desktop//Kursovaya//Kursovaya//04.05.21 Разбиение на файлы//ABC_New// All For Me Grog.abc\"\n",
    "with open(path,'r') as f:\n",
    "    text = f.read()"
   ]
  },
  {
   "cell_type": "code",
   "execution_count": 2,
   "id": "interested-jacket",
   "metadata": {},
   "outputs": [],
   "source": [
    "list_str = text.split(\"\\n\")"
   ]
  },
  {
   "cell_type": "code",
   "execution_count": 3,
   "id": "infinite-jumping",
   "metadata": {},
   "outputs": [],
   "source": [
    "list_ind = []\n",
    "for el in list_str:\n",
    "    if el.startswith('K:'):\n",
    "        list_ind.append(list_str.index(el))"
   ]
  },
  {
   "cell_type": "code",
   "execution_count": 4,
   "id": "solar-veteran",
   "metadata": {},
   "outputs": [
    {
     "data": {
      "text/plain": [
       "[6]"
      ]
     },
     "execution_count": 4,
     "metadata": {},
     "output_type": "execute_result"
    }
   ],
   "source": [
    "list_ind"
   ]
  },
  {
   "cell_type": "code",
   "execution_count": 5,
   "id": "warming-raise",
   "metadata": {},
   "outputs": [
    {
     "name": "stdout",
     "output_type": "stream",
     "text": [
      "['de|fagf gedc|e2e2 d4||', '|: D2FE D2>A,2|B,CDB, A,4| A2AA A2GF|F2E4FG|', 'A2AF D2DC|B,CDB, A,2DE|FAGF GECD|E2E2 D4:|', '']\n"
     ]
    }
   ],
   "source": [
    "if len(list_ind)==1:\n",
    "    print(list_str[list_ind[0]+1:])\n",
    "else:\n",
    "    for i in range(len(list_ind)-1):\n",
    "        print(list_str[list_ind[i]+1:list_ind[i+1]])\n",
    "    print(list_str[list_ind[-1]:])"
   ]
  },
  {
   "cell_type": "code",
   "execution_count": 6,
   "id": "varied-concentrate",
   "metadata": {},
   "outputs": [],
   "source": [
    "path1 =\"C://Users//HP//Desktop//Kursovaya//Kursovaya//04.05.21 Разбиение на файлы//ABC_New//High Level Bridge.abc\"\n",
    "with open(path1,'r') as f:\n",
    "    text1 = f.read()"
   ]
  },
  {
   "cell_type": "code",
   "execution_count": 7,
   "id": "smooth-notion",
   "metadata": {},
   "outputs": [],
   "source": [
    "list_str1 = text1.split(\"\\n\")"
   ]
  },
  {
   "cell_type": "code",
   "execution_count": 8,
   "id": "binding-israeli",
   "metadata": {},
   "outputs": [],
   "source": [
    "list_ind1 = []\n",
    "for el in list_str1:\n",
    "    if el.startswith('K:'):\n",
    "        list_ind1.append(list_str1.index(el))"
   ]
  },
  {
   "cell_type": "code",
   "execution_count": 9,
   "id": "brave-stopping",
   "metadata": {},
   "outputs": [],
   "source": [
    "l=[]\n",
    "if len(list_ind1)==1:\n",
    "    l.append(list_str1[list_ind1[0]+1:])\n",
    "else:\n",
    "    for i in range(len(list_ind1)-1):\n",
    "        l.append(list_str1[list_ind1[i]+1:list_ind1[i+1]])\n",
    "    l.append(list_str1[list_ind1[-1]+1:])"
   ]
  },
  {
   "cell_type": "code",
   "execution_count": 10,
   "id": "sharp-rings",
   "metadata": {},
   "outputs": [],
   "source": [
    "l = [item for sublist in l for item in sublist]"
   ]
  },
  {
   "cell_type": "code",
   "execution_count": 11,
   "id": "directed-cheat",
   "metadata": {},
   "outputs": [],
   "source": [
    "import os\n",
    "directory = \"C://Users//HP//Desktop//Kursovaya//Kursovaya//04.05.21 Разбиение на файлы//ABC_New\"\n",
    "files = os.listdir(directory)"
   ]
  },
  {
   "cell_type": "code",
   "execution_count": 12,
   "id": "brutal-borough",
   "metadata": {},
   "outputs": [],
   "source": [
    "import re"
   ]
  },
  {
   "cell_type": "code",
   "execution_count": 13,
   "id": "casual-jumping",
   "metadata": {},
   "outputs": [],
   "source": [
    "def make_musik(name): \n",
    "    \n",
    "    path_abc = \"C://Users//HP//Desktop//Kursovaya//Kursovaya//04.05.21 Разбиение на файлы//ABC_New//\"+\"{}\".format(name)\n",
    "    with open(path_abc,'r') as f:\n",
    "        file = f.read()\n",
    "    \n",
    "    listt = file.split(\"\\n\")\n",
    "    \n",
    "    ind = []\n",
    "    for el in listt:\n",
    "        if el.startswith('K:'):\n",
    "            ind.append(listt.index(el))\n",
    "    mus_list=[]\n",
    "    if len(ind)==1:\n",
    "        for el in listt[ind[0]+1:]:\n",
    "            el = re.sub('P:(?:.*?).*','',el)\n",
    "            if not el == '':\n",
    "                mus_list.append(el)\n",
    "    else:\n",
    "        for i in range(len(ind)-1):\n",
    "            for el in listt[ind[i]+1:ind[i+1]]:\n",
    "                el = re.sub('P:(?:.*?).*','',el)\n",
    "                if not el == '':\n",
    "                    mus_list.append(el)\n",
    "        for el in listt[ind[-1]+1:]:\n",
    "            el = re.sub('P:(?:.*?).*','',el)\n",
    "            if not el == '':\n",
    "                mus_list.append(el)\n",
    "        \n",
    "    #mus_list = [item for sublist in mus_list for item in sublist]\n",
    "    \n",
    "    return ''.join(mus_list)"
   ]
  },
  {
   "cell_type": "code",
   "execution_count": 14,
   "id": "hazardous-schema",
   "metadata": {},
   "outputs": [],
   "source": [
    "list_klass = [3*['sad'],['happy'],12*['sad'],['happy'],18*['sad'],['happy'],10*['sad'],['happy'],21*['sad'],['happy']\n",
    "              ,2*['sad'],['happy','sad','happy'],13*['sad'],['sad','sad','happy'],2*['sad'],['happy'],4*['sad'],['happy','sad','sad'],\n",
    "             3*['happy'],4*['sad'],['happy','sad','happy','sad','happy','happy','sad','happy'],4*['sad'],4*['happy'],4*['sad'],\n",
    "             2*['happy'],4*['sad'],['happy','sad'],4*['happy'],['sad','happy','sad','happy','happy','sad','happy','sad'],5*['happy'],\n",
    "             ['sad','happy','sad','happy','happy','sad'],7*['happy'],['sad','happy','happy','sad','happy','sad','happy','sad','sad',\n",
    "                                                                     'happy','happy','sad','happy','sad','sad'],\n",
    "             13*['happy'],['sad'],2*['happy'],2*['sad'],2*['happy'],2*['sad'],['happy','sad'],2*['happy'],2*['sad'],3*['happy'],['sad'],\n",
    "             5*['happy'],['sad'],2*['happy'],2*['sad'],2*['happy'],['sad'],7*['happy'],['sad'],2*['happy'],2*['sad'],['happy'],4*['sad'],\n",
    "             ['happy','sad','happy','sad','happy'],6*['sad'],4*['happy'],['sad','happy','sad','sad','happy'],3*['sad'],3*['happy'],\n",
    "             ['sad','happy'],2*['sad'],2*['happy'],['sad','happy','happy','sad'],4*['happy'],['sad','happy'],2*['sad'],['happy','sad'],\n",
    "             2*['happy'],5*['sad'],['happy'],3*['sad'],9*['happy'],['sad'],5*['happy'],['sad'],3*['happy'],['sad','happy','happy','sad',\n",
    "                                                                                                           'happy','sad','sad'],\n",
    "             3*['happy'],['sad'],4*['happy'],['sad'],3*['happy'],2*['sad'],4*['happy'],['sad','happy','happy','sad'],4*['happy'],\n",
    "             4*['happy','sad'],['sad'],4*['happy'],2*['sad','happy'],2*['happy'],['sad'],3*['happy'],['sad'],4*['happy'],['sad'],\n",
    "              2*['happy'],2*['sad'],3*['happy','sad'],8*['happy'],2*['sad'],['happy','sad','sad','happy','sad','sad','happy','sad','happy',\n",
    "                                                                            'happy','sad'],\n",
    "             6*['happy'],['sad'],4*['happy'],2*['sad','happy'],['happy'],7*['sad'],['happy','sad'],6*['happy'],2*['sad','happy'],4*['happy'],\n",
    "             2*['sad'],3*['happy'],2*['sad'],7*['happy'],2*['sad','happy'],2*['happy'],3*['sad','happy'],2*['sad'],['happy','sad'],3*['happy'],\n",
    "             2*['sad','happy'],2*['happy'],3*['sad','happy'],4*['happy'],['sad'],3*['happy'],['sad'],2*['happy'],8*['sad'],['happy','sad'],\n",
    "             6*['happy'],2*['sad','happy'],7*['happy'],3*['sad'],5*['happy'],4*['sad'],['happy'],2*['sad'],2*['happy'],2*['sad','happy'],\n",
    "             5*['happy'],2*['sad','happy'],3*['sad'],3*['happy'],2*['sad','happy'],2*['happy'],2*['sad'],2*['happy'],['sad'],8*['happy'],\n",
    "             2*['sad'],3*['happy'],2*['sad'],7*['happy'],['sad'],2*['happy'],['sad'],13*['happy'],['sad'],5*['happy'],\n",
    "             ['sad'],6*['happy'],2*['sad','happy'],2*['sad'],2*['happy'],['sad'],3*['happy'],2*['sad'],2*['happy'],3*['sad'],['happy'],\n",
    "             3*['sad'],['happy'],2*['sad'],2*['happy','sad'],3*['happy'],['sad'],2*['happy'],['sad'],2*['happy'],2*['sad'],['happy'],\n",
    "             5*['sad'],3*['happy'],['sad'],6*['happy'],['sad'],12*['happy'],['sad'],3*['happy'],['sad'],2*['happy'],2*['sad'],\n",
    "             4*['happy'],['sad'],2*['happy'],['sad'],3*['happy'],2*['sad','happy'],4*['sad'],4*['happy'],2*['sad'],4*['happy'],\n",
    "             2*['sad','happy'],3*['sad'],['happy'],3*['sad'],4*['happy'],5*['sad'],4*['happy'],['sad'],2*['happy'],3*['sad'],\n",
    "             6*['happy'],5*['sad'],2*['happy','sad'],6*['happy'],2*['sad'],4*['happy'],['sad','happy'],2*['sad'],['happy','sad','sad'],3*['happy'],\n",
    "             ['sad'],4*['happy'],2*['sad','happy'],['happy'],2*['sad'],['happy','sad'],2*['happy'],3*['sad'],2*['happy'],2*['sad'],\n",
    "             5*['happy'],['sad','happy'],3*['sad'],5*['happy'],3*['sad'],4*['happy'],['sad'],5*['happy'],2*['sad'],3*['happy'],['sad'],\n",
    "              2*['happy'],2*['sad','happy'],9*['happy'],3*['sad'],['happy','sad'],2*['happy'],2*['sad'],['happy'],5*['sad'],['happy','sad'],\n",
    "             3*['happy'],2*['sad','happy'],['happy'],3*['sad'],3*['happy'],2*['sad'],8*['happy'],['sad','happy','sad']]"
   ]
  },
  {
   "cell_type": "code",
   "execution_count": 15,
   "id": "serious-finger",
   "metadata": {},
   "outputs": [],
   "source": [
    "list_klass = [item for sublist in list_klass for item in sublist]"
   ]
  },
  {
   "cell_type": "code",
   "execution_count": 16,
   "id": "streaming-guidance",
   "metadata": {},
   "outputs": [],
   "source": [
    "l1=[]\n",
    "for i in range(len(files)):\n",
    "    l1.append(make_musik(files[i]))\n",
    "zipp = zip(l1,list_klass)\n",
    "sett = dict(zipp)"
   ]
  },
  {
   "cell_type": "code",
   "execution_count": 17,
   "id": "talented-custody",
   "metadata": {},
   "outputs": [],
   "source": [
    "c=list([t for f in sett.keys() for t in f.split('|')])\n",
    "\n",
    "for el in c:\n",
    "    if el == '' or el == ']' or el == ' ':\n",
    "        c.remove(el)\n",
    "\n",
    "        \n",
    "dictt = {}\n",
    "for k in c:\n",
    "    if dictt.get(k): dictt[k] += 1\n",
    "    else: dictt[k] = 1\n",
    "\n",
    "from collections import OrderedDict\n",
    "sorted_dict = OrderedDict(sorted(dictt.items(), key=lambda x: -x[1]))\n",
    "\n",
    "vocab = list(dict(sorted_dict).keys())"
   ]
  },
  {
   "cell_type": "code",
   "execution_count": 18,
   "id": "organic-garage",
   "metadata": {},
   "outputs": [],
   "source": [
    "vocab_size = len(vocab)"
   ]
  },
  {
   "cell_type": "code",
   "execution_count": 19,
   "id": "developing-hardware",
   "metadata": {},
   "outputs": [],
   "source": [
    "takt_to_ind = {t: i for i,t in enumerate(vocab)}\n",
    "idx_to_word = { i: t for i, t in enumerate(vocab) }"
   ]
  },
  {
   "cell_type": "code",
   "execution_count": 20,
   "id": "mounted-accounting",
   "metadata": {},
   "outputs": [],
   "source": [
    "import numpy as np\n",
    "from numpy.random import randn"
   ]
  },
  {
   "cell_type": "code",
   "execution_count": 21,
   "id": "knowing-skirt",
   "metadata": {},
   "outputs": [],
   "source": [
    "a=[]\n",
    "for el in l1:\n",
    "    l = el.split('|')\n",
    "    for e in l:\n",
    "        if e ==' ' or e ==']' or e =='':\n",
    "            l.remove(e)\n",
    "    l='|'.join(l)\n",
    "    a.append(l)\n",
    "    l=[]"
   ]
  },
  {
   "cell_type": "code",
   "execution_count": null,
   "id": "homeless-culture",
   "metadata": {},
   "outputs": [],
   "source": [
    "def createInputs(text):\n",
    "    inputs = []\n",
    "    l = text.split('|')\n",
    "    for w in l:\n",
    "        if w == '' or w ==']' or w == ' ':\n",
    "            l.remove(w)\n",
    "    for el in l:\n",
    "        v = np.zeros((vocab_size, 1))\n",
    "        v[takt_to_ind[el]] = 1\n",
    "        inputs.append(v)\n",
    "    \n",
    "    return inputs"
   ]
  },
  {
   "cell_type": "code",
   "execution_count": 34,
   "id": "equivalent-router",
   "metadata": {},
   "outputs": [],
   "source": [
    "class RNN: \n",
    "    def __init__(self,input_size, output_size, hidden_size=64):\n",
    "        \n",
    "        self.Whh = randn(hidden_size, hidden_size) \n",
    "        self.Wxh = randn(hidden_size, input_size) \n",
    "        self.Why = randn(output_size, hidden_size)\n",
    "\n",
    "        self.bh = np.zeros((hidden_size, 1))\n",
    "        self.by = np.zeros((output_size, 1))\n",
    "        \n",
    "\n",
    "    def forward(self, inputs):\n",
    "        \n",
    "        h = np.zeros((self.Whh.shape[0], 1))\n",
    " \n",
    "        self.last_inputs = inputs\n",
    "        self.last_hs = { 0: h }\n",
    "\n",
    "        for i, x in enumerate(inputs):\n",
    "            h = np.tanh(self.Wxh @ x + self.Whh @ h + self.bh)\n",
    "            self.last_hs[i + 1] = h\n",
    "\n",
    "        y = self.Why @ h + self.by\n",
    " \n",
    "        return y, h\n",
    "\n",
    "\n",
    "    def backprop(self, d_y, learn_rate=2e-2):\n",
    "\n",
    "        n = len(self.last_inputs)\n",
    " \n",
    "        d_Why = d_y @ self.last_hs[n].T\n",
    "        d_by = d_y\n",
    "        \n",
    "        d_Whh = np.zeros(self.Whh.shape)\n",
    "        d_Wxh = np.zeros(self.Wxh.shape)\n",
    "        d_bh = np.zeros(self.bh.shape)\n",
    "        \n",
    "        d_h = self.Why.T @ d_y\n",
    "        \n",
    "        for t in reversed(range(n)):\n",
    "\n",
    "            temp = ((1 - self.last_hs[t + 1] ** 2) * d_h)\n",
    "\n",
    "            d_bh += temp\n",
    "\n",
    "            d_Whh += temp @ self.last_hs[t].T\n",
    "\n",
    "            d_Wxh += temp @ self.last_inputs[t].T\n",
    "\n",
    "            d_h = self.Whh @ temp\n",
    "        \n",
    "        for d in [d_Wxh, d_Whh, d_Why, d_bh, d_by]:\n",
    "            np.clip(d, -1, 1, out=d)\n",
    "            \n",
    "        self.Whh -= learn_rate * d_Whh\n",
    "        self.Wxh -= learn_rate * d_Wxh\n",
    "        self.Why -= learn_rate * d_Why\n",
    "        self.bh -= learn_rate * d_bh\n",
    "        self.by -= learn_rate * d_by"
   ]
  },
  {
   "cell_type": "code",
   "execution_count": 35,
   "id": "third-banner",
   "metadata": {},
   "outputs": [],
   "source": [
    "import random"
   ]
  },
  {
   "cell_type": "code",
   "execution_count": null,
   "id": "distributed-response",
   "metadata": {},
   "outputs": [],
   "source": [
    "def processData(data, backprop=True):\n",
    "    rnn = RNN(vocab_size, 2)\n",
    "    items = list(data.items())\n",
    "    random.shuffle(items)\n",
    " \n",
    "    loss = 0\n",
    "    num_correct = 0\n",
    "    probs_l =[]\n",
    " \n",
    "    for x, y in items:\n",
    "        inputs = createInputs(x)\n",
    "        if y == 'sad':\n",
    "            target = 0\n",
    "        else:\n",
    "            target = 1\n",
    " \n",
    "        out, _ = rnn.forward()\n",
    "        probs = softmax(out)\n",
    "\n",
    "        loss -= np.log(probs[target])\n",
    "        num_correct += int(np.argmax(probs) == target)\n",
    " \n",
    "        if backprop:\n",
    "\n",
    "            d_L_d_y = probs\n",
    "            d_L_d_y[target] -= 1\n",
    "\n",
    "            rnn.backprop(d_L_d_y)\n",
    "        probs_l.append(probs)\n",
    " \n",
    "    return loss / len(data), num_correct / len(data), probs_l"
   ]
  },
  {
   "cell_type": "code",
   "execution_count": null,
   "id": "convertible-seminar",
   "metadata": {},
   "outputs": [],
   "source": [
    "l2=[]\n",
    "for i in range(len(files[:462])):\n",
    "    l2.append(make_musik(files[i]))\n",
    "zippp = zip(l2,list_klass[:len(l2)])\n",
    "settt = dict(zippp)"
   ]
  },
  {
   "cell_type": "code",
   "execution_count": null,
   "id": "specialized-legislature",
   "metadata": {},
   "outputs": [],
   "source": [
    "l3=[]\n",
    "for i in range(len(files[462:])):\n",
    "    l3.append(make_musik(files[i]))\n",
    "zipppp = zip(l3,list_klass[len(l3):])\n",
    "setttt = dict(zipppp)"
   ]
  },
  {
   "cell_type": "code",
   "execution_count": null,
   "id": "dependent-channels",
   "metadata": {},
   "outputs": [],
   "source": [
    "tr_l=[]\n",
    "tr_ac=[]\n",
    "tes_l=[]\n",
    "tes_ac=[]\n",
    "for epoch in range(1,5):\n",
    "    train_loss, train_acc,_= processData(settt)\n",
    "    print('--- Epoch %d' % (epoch))\n",
    "    print('Train:\\tLoss %.3f | Accuracy: %.3f' % (train_loss, train_acc))\n",
    "    tr_l.append(train_loss)\n",
    "    tr_ac.append(train_acc)\n",
    "    \n",
    "    test_loss, test_acc, tes_pr= processData(setttt,backprop = False)\n",
    "    print('Test:\\tLoss %.3f | Accuracy: %.3f' % (test_loss, test_acc))\n",
    "    tes_l.append(test_loss)\n",
    "    tes_ac.append(test_acc)"
   ]
  }
 ],
 "metadata": {
  "kernelspec": {
   "display_name": "Python 3",
   "language": "python",
   "name": "python3"
  },
  "language_info": {
   "codemirror_mode": {
    "name": "ipython",
    "version": 3
   },
   "file_extension": ".py",
   "mimetype": "text/x-python",
   "name": "python",
   "nbconvert_exporter": "python",
   "pygments_lexer": "ipython3",
   "version": "3.8.8"
  }
 },
 "nbformat": 4,
 "nbformat_minor": 5
}
