{
 "cells": [
  {
   "cell_type": "code",
   "execution_count": 2,
   "id": "short-springer",
   "metadata": {},
   "outputs": [],
   "source": [
    "file = 'C:\\\\Users\\\\HP\\\\Desktop\\\\Kursovaya\\\\ABC.abc';\n",
    "with open(file,'r') as f:\n",
    "    text = f.read()"
   ]
  },
  {
   "cell_type": "code",
   "execution_count": 3,
   "id": "express-soldier",
   "metadata": {},
   "outputs": [
    {
     "data": {
      "text/plain": [
       "133"
      ]
     },
     "execution_count": 3,
     "metadata": {},
     "output_type": "execute_result"
    }
   ],
   "source": [
    "text.index('[')"
   ]
  },
  {
   "cell_type": "code",
   "execution_count": 4,
   "id": "optional-oklahoma",
   "metadata": {},
   "outputs": [],
   "source": [
    "text1 = text[133:]"
   ]
  },
  {
   "cell_type": "code",
   "execution_count": 74,
   "id": "annual-palestinian",
   "metadata": {},
   "outputs": [],
   "source": [
    "song = text1.split('\\n')"
   ]
  },
  {
   "cell_type": "markdown",
   "id": "mineral-portfolio",
   "metadata": {},
   "source": [
    "## Разбиение по тактам "
   ]
  },
  {
   "cell_type": "code",
   "execution_count": 52,
   "id": "adaptive-space",
   "metadata": {},
   "outputs": [],
   "source": [
    "takt = ''.join(''.join(''.join(''.join(''.join(song).split('[V: S]'\n",
    "                                                          )).split('[V: A]')).split('[V: T]')).split('[V: B]')).split('|')[:-1]"
   ]
  },
  {
   "cell_type": "code",
   "execution_count": 63,
   "id": "municipal-speaker",
   "metadata": {},
   "outputs": [],
   "source": [
    "takt;"
   ]
  },
  {
   "cell_type": "code",
   "execution_count": 62,
   "id": "tender-relationship",
   "metadata": {},
   "outputs": [],
   "source": [
    "List = []\n",
    "for i in range(len(takt)):\n",
    "    List.append(''.join(takt[i].split(' ')))"
   ]
  },
  {
   "cell_type": "code",
   "execution_count": 64,
   "id": "permanent-designer",
   "metadata": {},
   "outputs": [],
   "source": [
    "vocab1 = set(List)"
   ]
  },
  {
   "cell_type": "code",
   "execution_count": 67,
   "id": "trained-closer",
   "metadata": {},
   "outputs": [],
   "source": [
    "char_to_index_1 = {char_: ind for ind, char_ in enumerate (vocab1)} \n",
    "char_to_index_1;"
   ]
  },
  {
   "cell_type": "markdown",
   "id": "ignored-atlanta",
   "metadata": {},
   "source": [
    "## Разбиение по нотам"
   ]
  },
  {
   "cell_type": "code",
   "execution_count": 79,
   "id": "abandoned-light",
   "metadata": {},
   "outputs": [],
   "source": [
    "text1;"
   ]
  },
  {
   "cell_type": "code",
   "execution_count": 76,
   "id": "included-anderson",
   "metadata": {},
   "outputs": [],
   "source": [
    "vocab = set(text1)"
   ]
  },
  {
   "cell_type": "code",
   "execution_count": 80,
   "id": "warming-irrigation",
   "metadata": {},
   "outputs": [],
   "source": [
    "char_to_index = {char_: ind for ind, char_ in enumerate (vocab)} \n",
    "char_to_index;"
   ]
  },
  {
   "cell_type": "code",
   "execution_count": null,
   "id": "explicit-peripheral",
   "metadata": {},
   "outputs": [],
   "source": []
  }
 ],
 "metadata": {
  "kernelspec": {
   "display_name": "Python 3",
   "language": "python",
   "name": "python3"
  },
  "language_info": {
   "codemirror_mode": {
    "name": "ipython",
    "version": 3
   },
   "file_extension": ".py",
   "mimetype": "text/x-python",
   "name": "python",
   "nbconvert_exporter": "python",
   "pygments_lexer": "ipython3",
   "version": "3.8.8"
  }
 },
 "nbformat": 4,
 "nbformat_minor": 5
}
